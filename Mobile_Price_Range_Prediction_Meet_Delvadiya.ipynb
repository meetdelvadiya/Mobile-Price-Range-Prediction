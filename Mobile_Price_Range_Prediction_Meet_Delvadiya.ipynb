{
  "nbformat": 4,
  "nbformat_minor": 0,
  "metadata": {
    "colab": {
      "name": "Mobile Price Range Prediction - Meet Delvadiya.ipynb",
      "provenance": [],
      "collapsed_sections": [],
      "authorship_tag": "ABX9TyPw5gBac+H7uq0apwrOgVKA",
      "include_colab_link": true
    },
    "kernelspec": {
      "name": "python3",
      "display_name": "Python 3"
    },
    "language_info": {
      "name": "python"
    }
  },
  "cells": [
    {
      "cell_type": "markdown",
      "metadata": {
        "id": "view-in-github",
        "colab_type": "text"
      },
      "source": [
        "<a href=\"https://colab.research.google.com/github/meetdelvadiya/Mobile-Price-Range-Prediction/blob/main/Mobile_Price_Range_Prediction_Meet_Delvadiya.ipynb\" target=\"_parent\"><img src=\"https://colab.research.google.com/assets/colab-badge.svg\" alt=\"Open In Colab\"/></a>"
      ]
    },
    {
      "cell_type": "markdown",
      "metadata": {
        "id": "yQQHr1-Fhmna"
      },
      "source": [
        "In the competitive mobile phone market companies want\n",
        "to understand sales data of mobile phones and factors which drive the prices.\n",
        "The objective is to find out some relation between features of a mobile phone(eg:- RAM,\n",
        "Internal Memory, etc) and its selling price. In this problem, we do not have to predict the\n",
        "actual price but a price range indicating how high the price is."
      ]
    },
    {
      "cell_type": "markdown",
      "metadata": {
        "id": "Abh-TY_whnWS"
      },
      "source": [
        "**Data Description** -\n",
        "Battery_power - Total energy a battery can store in one time measured in mAh\n",
        "\n",
        "Blue - Has bluetooth or not\n",
        "\n",
        "Clock_speed - speed at which microprocessor executes instructions\n",
        "\n",
        "Dual_sim - Has dual sim support or not\n",
        "\n",
        "Fc - Front Camera mega pixels\n",
        "\n",
        "Four_g - Has 4G or not\n",
        "\n",
        "Int_memory - Internal Memory in Gigabytes\n",
        "\n",
        "M_dep - Mobile Depth in cm\n",
        "\n",
        "Mobile_wt - Weight of mobile phone\n",
        "\n",
        "N_cores - Number of cores of processor\n",
        "\n",
        "Pc - Primary Camera mega pixels\n",
        "\n",
        "Px_height - Pixel Resolution Height\n",
        "\n",
        "Px_width - Pixel Resolution \n",
        "\n",
        "Ram - Random Access Memory in Mega Bytes\n",
        "\n",
        "Sc_h - Screen Height of mobile in cm\n",
        "\n",
        "Sc_w - Screen Width of mobile in cm\n",
        "\n",
        "Talk_time - longest time that a single battery charge will last when you are\n",
        "\n",
        "Three_g - Has 3G or not\n",
        "\n",
        "Touch_screen - Has touch screen or not\n",
        "\n",
        "Wifi - Has wifi or not\n",
        "\n",
        "Price_range - This is the target variable with value of 0(low cost), 1(medium cost),\n",
        "\n",
        "2(high cost) and 3(very high cost).\n",
        "\n"
      ]
    },
    {
      "cell_type": "code",
      "metadata": {
        "colab": {
          "base_uri": "https://localhost:8080/"
        },
        "id": "uL2mr_GXiM1b",
        "outputId": "979aa25a-8d40-4565-e99a-f6e8ba1f6885"
      },
      "source": [
        "from google.colab import drive\n",
        "drive.mount('/content/drive')"
      ],
      "execution_count": 1,
      "outputs": [
        {
          "output_type": "stream",
          "name": "stdout",
          "text": [
            "Mounted at /content/drive\n"
          ]
        }
      ]
    },
    {
      "cell_type": "markdown",
      "metadata": {
        "id": "vdNFNKCeiWjT"
      },
      "source": [
        "#**Import Statements**"
      ]
    },
    {
      "cell_type": "code",
      "metadata": {
        "id": "aBJmkscUiQeF"
      },
      "source": [
        "# Importing the libraries\n",
        "import numpy as np\n",
        "import pandas as pd\n",
        "from numpy import math\n",
        "import seaborn as sns\n",
        "import matplotlib.pyplot as plt\n",
        "\n",
        "from datetime import datetime\n",
        "import time\n",
        "import dateutil\n",
        "\n",
        "from sklearn.preprocessing import MinMaxScaler\n",
        "from sklearn.model_selection import train_test_split\n",
        "from sklearn.metrics import confusion_matrix\n",
        "from sklearn.metrics import accuracy_score\n",
        "from sklearn.metrics import classification_report\n",
        "\n"
      ],
      "execution_count": 2,
      "outputs": []
    },
    {
      "cell_type": "markdown",
      "metadata": {
        "id": "JP9XSVTAi0H9"
      },
      "source": [
        "#**Loading and inspecting data**\n",
        "\n"
      ]
    },
    {
      "cell_type": "code",
      "metadata": {
        "id": "1xoZwhqXix7t"
      },
      "source": [
        "#Reading a data file  \n",
        "dataset=pd.read_csv(\"/content/drive/MyDrive/Dataset/data_mobile_price_range.csv\")"
      ],
      "execution_count": 3,
      "outputs": []
    },
    {
      "cell_type": "code",
      "metadata": {
        "colab": {
          "base_uri": "https://localhost:8080/",
          "height": 224
        },
        "id": "qjRQZu7hi_b2",
        "outputId": "acb1ce99-d3d3-43c9-f95f-38f3b3b202d5"
      },
      "source": [
        "#It gives Top 5 rows of Dataset \n",
        "dataset.head()"
      ],
      "execution_count": 4,
      "outputs": [
        {
          "output_type": "execute_result",
          "data": {
            "text/html": [
              "<div>\n",
              "<style scoped>\n",
              "    .dataframe tbody tr th:only-of-type {\n",
              "        vertical-align: middle;\n",
              "    }\n",
              "\n",
              "    .dataframe tbody tr th {\n",
              "        vertical-align: top;\n",
              "    }\n",
              "\n",
              "    .dataframe thead th {\n",
              "        text-align: right;\n",
              "    }\n",
              "</style>\n",
              "<table border=\"1\" class=\"dataframe\">\n",
              "  <thead>\n",
              "    <tr style=\"text-align: right;\">\n",
              "      <th></th>\n",
              "      <th>battery_power</th>\n",
              "      <th>blue</th>\n",
              "      <th>clock_speed</th>\n",
              "      <th>dual_sim</th>\n",
              "      <th>fc</th>\n",
              "      <th>four_g</th>\n",
              "      <th>int_memory</th>\n",
              "      <th>m_dep</th>\n",
              "      <th>mobile_wt</th>\n",
              "      <th>n_cores</th>\n",
              "      <th>pc</th>\n",
              "      <th>px_height</th>\n",
              "      <th>px_width</th>\n",
              "      <th>ram</th>\n",
              "      <th>sc_h</th>\n",
              "      <th>sc_w</th>\n",
              "      <th>talk_time</th>\n",
              "      <th>three_g</th>\n",
              "      <th>touch_screen</th>\n",
              "      <th>wifi</th>\n",
              "      <th>price_range</th>\n",
              "    </tr>\n",
              "  </thead>\n",
              "  <tbody>\n",
              "    <tr>\n",
              "      <th>0</th>\n",
              "      <td>842</td>\n",
              "      <td>0</td>\n",
              "      <td>2.2</td>\n",
              "      <td>0</td>\n",
              "      <td>1</td>\n",
              "      <td>0</td>\n",
              "      <td>7</td>\n",
              "      <td>0.6</td>\n",
              "      <td>188</td>\n",
              "      <td>2</td>\n",
              "      <td>2</td>\n",
              "      <td>20</td>\n",
              "      <td>756</td>\n",
              "      <td>2549</td>\n",
              "      <td>9</td>\n",
              "      <td>7</td>\n",
              "      <td>19</td>\n",
              "      <td>0</td>\n",
              "      <td>0</td>\n",
              "      <td>1</td>\n",
              "      <td>1</td>\n",
              "    </tr>\n",
              "    <tr>\n",
              "      <th>1</th>\n",
              "      <td>1021</td>\n",
              "      <td>1</td>\n",
              "      <td>0.5</td>\n",
              "      <td>1</td>\n",
              "      <td>0</td>\n",
              "      <td>1</td>\n",
              "      <td>53</td>\n",
              "      <td>0.7</td>\n",
              "      <td>136</td>\n",
              "      <td>3</td>\n",
              "      <td>6</td>\n",
              "      <td>905</td>\n",
              "      <td>1988</td>\n",
              "      <td>2631</td>\n",
              "      <td>17</td>\n",
              "      <td>3</td>\n",
              "      <td>7</td>\n",
              "      <td>1</td>\n",
              "      <td>1</td>\n",
              "      <td>0</td>\n",
              "      <td>2</td>\n",
              "    </tr>\n",
              "    <tr>\n",
              "      <th>2</th>\n",
              "      <td>563</td>\n",
              "      <td>1</td>\n",
              "      <td>0.5</td>\n",
              "      <td>1</td>\n",
              "      <td>2</td>\n",
              "      <td>1</td>\n",
              "      <td>41</td>\n",
              "      <td>0.9</td>\n",
              "      <td>145</td>\n",
              "      <td>5</td>\n",
              "      <td>6</td>\n",
              "      <td>1263</td>\n",
              "      <td>1716</td>\n",
              "      <td>2603</td>\n",
              "      <td>11</td>\n",
              "      <td>2</td>\n",
              "      <td>9</td>\n",
              "      <td>1</td>\n",
              "      <td>1</td>\n",
              "      <td>0</td>\n",
              "      <td>2</td>\n",
              "    </tr>\n",
              "    <tr>\n",
              "      <th>3</th>\n",
              "      <td>615</td>\n",
              "      <td>1</td>\n",
              "      <td>2.5</td>\n",
              "      <td>0</td>\n",
              "      <td>0</td>\n",
              "      <td>0</td>\n",
              "      <td>10</td>\n",
              "      <td>0.8</td>\n",
              "      <td>131</td>\n",
              "      <td>6</td>\n",
              "      <td>9</td>\n",
              "      <td>1216</td>\n",
              "      <td>1786</td>\n",
              "      <td>2769</td>\n",
              "      <td>16</td>\n",
              "      <td>8</td>\n",
              "      <td>11</td>\n",
              "      <td>1</td>\n",
              "      <td>0</td>\n",
              "      <td>0</td>\n",
              "      <td>2</td>\n",
              "    </tr>\n",
              "    <tr>\n",
              "      <th>4</th>\n",
              "      <td>1821</td>\n",
              "      <td>1</td>\n",
              "      <td>1.2</td>\n",
              "      <td>0</td>\n",
              "      <td>13</td>\n",
              "      <td>1</td>\n",
              "      <td>44</td>\n",
              "      <td>0.6</td>\n",
              "      <td>141</td>\n",
              "      <td>2</td>\n",
              "      <td>14</td>\n",
              "      <td>1208</td>\n",
              "      <td>1212</td>\n",
              "      <td>1411</td>\n",
              "      <td>8</td>\n",
              "      <td>2</td>\n",
              "      <td>15</td>\n",
              "      <td>1</td>\n",
              "      <td>1</td>\n",
              "      <td>0</td>\n",
              "      <td>1</td>\n",
              "    </tr>\n",
              "  </tbody>\n",
              "</table>\n",
              "</div>"
            ],
            "text/plain": [
              "   battery_power  blue  clock_speed  ...  touch_screen  wifi  price_range\n",
              "0            842     0          2.2  ...             0     1            1\n",
              "1           1021     1          0.5  ...             1     0            2\n",
              "2            563     1          0.5  ...             1     0            2\n",
              "3            615     1          2.5  ...             0     0            2\n",
              "4           1821     1          1.2  ...             1     0            1\n",
              "\n",
              "[5 rows x 21 columns]"
            ]
          },
          "metadata": {},
          "execution_count": 4
        }
      ]
    },
    {
      "cell_type": "code",
      "metadata": {
        "colab": {
          "base_uri": "https://localhost:8080/",
          "height": 224
        },
        "id": "9EsVqaqgjDOi",
        "outputId": "3c0dfadc-0012-443a-a07c-befff1c7d4d1"
      },
      "source": [
        "#It gives last 5 rows of Dataset\n",
        "dataset.tail()"
      ],
      "execution_count": 5,
      "outputs": [
        {
          "output_type": "execute_result",
          "data": {
            "text/html": [
              "<div>\n",
              "<style scoped>\n",
              "    .dataframe tbody tr th:only-of-type {\n",
              "        vertical-align: middle;\n",
              "    }\n",
              "\n",
              "    .dataframe tbody tr th {\n",
              "        vertical-align: top;\n",
              "    }\n",
              "\n",
              "    .dataframe thead th {\n",
              "        text-align: right;\n",
              "    }\n",
              "</style>\n",
              "<table border=\"1\" class=\"dataframe\">\n",
              "  <thead>\n",
              "    <tr style=\"text-align: right;\">\n",
              "      <th></th>\n",
              "      <th>battery_power</th>\n",
              "      <th>blue</th>\n",
              "      <th>clock_speed</th>\n",
              "      <th>dual_sim</th>\n",
              "      <th>fc</th>\n",
              "      <th>four_g</th>\n",
              "      <th>int_memory</th>\n",
              "      <th>m_dep</th>\n",
              "      <th>mobile_wt</th>\n",
              "      <th>n_cores</th>\n",
              "      <th>pc</th>\n",
              "      <th>px_height</th>\n",
              "      <th>px_width</th>\n",
              "      <th>ram</th>\n",
              "      <th>sc_h</th>\n",
              "      <th>sc_w</th>\n",
              "      <th>talk_time</th>\n",
              "      <th>three_g</th>\n",
              "      <th>touch_screen</th>\n",
              "      <th>wifi</th>\n",
              "      <th>price_range</th>\n",
              "    </tr>\n",
              "  </thead>\n",
              "  <tbody>\n",
              "    <tr>\n",
              "      <th>1995</th>\n",
              "      <td>794</td>\n",
              "      <td>1</td>\n",
              "      <td>0.5</td>\n",
              "      <td>1</td>\n",
              "      <td>0</td>\n",
              "      <td>1</td>\n",
              "      <td>2</td>\n",
              "      <td>0.8</td>\n",
              "      <td>106</td>\n",
              "      <td>6</td>\n",
              "      <td>14</td>\n",
              "      <td>1222</td>\n",
              "      <td>1890</td>\n",
              "      <td>668</td>\n",
              "      <td>13</td>\n",
              "      <td>4</td>\n",
              "      <td>19</td>\n",
              "      <td>1</td>\n",
              "      <td>1</td>\n",
              "      <td>0</td>\n",
              "      <td>0</td>\n",
              "    </tr>\n",
              "    <tr>\n",
              "      <th>1996</th>\n",
              "      <td>1965</td>\n",
              "      <td>1</td>\n",
              "      <td>2.6</td>\n",
              "      <td>1</td>\n",
              "      <td>0</td>\n",
              "      <td>0</td>\n",
              "      <td>39</td>\n",
              "      <td>0.2</td>\n",
              "      <td>187</td>\n",
              "      <td>4</td>\n",
              "      <td>3</td>\n",
              "      <td>915</td>\n",
              "      <td>1965</td>\n",
              "      <td>2032</td>\n",
              "      <td>11</td>\n",
              "      <td>10</td>\n",
              "      <td>16</td>\n",
              "      <td>1</td>\n",
              "      <td>1</td>\n",
              "      <td>1</td>\n",
              "      <td>2</td>\n",
              "    </tr>\n",
              "    <tr>\n",
              "      <th>1997</th>\n",
              "      <td>1911</td>\n",
              "      <td>0</td>\n",
              "      <td>0.9</td>\n",
              "      <td>1</td>\n",
              "      <td>1</td>\n",
              "      <td>1</td>\n",
              "      <td>36</td>\n",
              "      <td>0.7</td>\n",
              "      <td>108</td>\n",
              "      <td>8</td>\n",
              "      <td>3</td>\n",
              "      <td>868</td>\n",
              "      <td>1632</td>\n",
              "      <td>3057</td>\n",
              "      <td>9</td>\n",
              "      <td>1</td>\n",
              "      <td>5</td>\n",
              "      <td>1</td>\n",
              "      <td>1</td>\n",
              "      <td>0</td>\n",
              "      <td>3</td>\n",
              "    </tr>\n",
              "    <tr>\n",
              "      <th>1998</th>\n",
              "      <td>1512</td>\n",
              "      <td>0</td>\n",
              "      <td>0.9</td>\n",
              "      <td>0</td>\n",
              "      <td>4</td>\n",
              "      <td>1</td>\n",
              "      <td>46</td>\n",
              "      <td>0.1</td>\n",
              "      <td>145</td>\n",
              "      <td>5</td>\n",
              "      <td>5</td>\n",
              "      <td>336</td>\n",
              "      <td>670</td>\n",
              "      <td>869</td>\n",
              "      <td>18</td>\n",
              "      <td>10</td>\n",
              "      <td>19</td>\n",
              "      <td>1</td>\n",
              "      <td>1</td>\n",
              "      <td>1</td>\n",
              "      <td>0</td>\n",
              "    </tr>\n",
              "    <tr>\n",
              "      <th>1999</th>\n",
              "      <td>510</td>\n",
              "      <td>1</td>\n",
              "      <td>2.0</td>\n",
              "      <td>1</td>\n",
              "      <td>5</td>\n",
              "      <td>1</td>\n",
              "      <td>45</td>\n",
              "      <td>0.9</td>\n",
              "      <td>168</td>\n",
              "      <td>6</td>\n",
              "      <td>16</td>\n",
              "      <td>483</td>\n",
              "      <td>754</td>\n",
              "      <td>3919</td>\n",
              "      <td>19</td>\n",
              "      <td>4</td>\n",
              "      <td>2</td>\n",
              "      <td>1</td>\n",
              "      <td>1</td>\n",
              "      <td>1</td>\n",
              "      <td>3</td>\n",
              "    </tr>\n",
              "  </tbody>\n",
              "</table>\n",
              "</div>"
            ],
            "text/plain": [
              "      battery_power  blue  clock_speed  ...  touch_screen  wifi  price_range\n",
              "1995            794     1          0.5  ...             1     0            0\n",
              "1996           1965     1          2.6  ...             1     1            2\n",
              "1997           1911     0          0.9  ...             1     0            3\n",
              "1998           1512     0          0.9  ...             1     1            0\n",
              "1999            510     1          2.0  ...             1     1            3\n",
              "\n",
              "[5 rows x 21 columns]"
            ]
          },
          "metadata": {},
          "execution_count": 5
        }
      ]
    },
    {
      "cell_type": "code",
      "metadata": {
        "colab": {
          "base_uri": "https://localhost:8080/"
        },
        "id": "ZIrt9_YUzDX9",
        "outputId": "eda529e8-3207-4fdb-99d1-1be1de2b70eb"
      },
      "source": [
        "# It gives Total number of rows and columns of dataset.\n",
        "dataset.shape"
      ],
      "execution_count": 6,
      "outputs": [
        {
          "output_type": "execute_result",
          "data": {
            "text/plain": [
              "(2000, 21)"
            ]
          },
          "metadata": {},
          "execution_count": 6
        }
      ]
    },
    {
      "cell_type": "markdown",
      "metadata": {
        "id": "w1Df2xdUz0Iu"
      },
      "source": [
        "The Dataset has 2000 rows and 21 columns."
      ]
    },
    {
      "cell_type": "code",
      "metadata": {
        "colab": {
          "base_uri": "https://localhost:8080/"
        },
        "id": "l76cbuoUz25j",
        "outputId": "621e7cae-45ed-4420-c09c-debb1ecbf4c1"
      },
      "source": [
        "#It gives total columns, data types and null count of dataset.\n",
        "dataset.info()"
      ],
      "execution_count": 7,
      "outputs": [
        {
          "output_type": "stream",
          "name": "stdout",
          "text": [
            "<class 'pandas.core.frame.DataFrame'>\n",
            "RangeIndex: 2000 entries, 0 to 1999\n",
            "Data columns (total 21 columns):\n",
            " #   Column         Non-Null Count  Dtype  \n",
            "---  ------         --------------  -----  \n",
            " 0   battery_power  2000 non-null   int64  \n",
            " 1   blue           2000 non-null   int64  \n",
            " 2   clock_speed    2000 non-null   float64\n",
            " 3   dual_sim       2000 non-null   int64  \n",
            " 4   fc             2000 non-null   int64  \n",
            " 5   four_g         2000 non-null   int64  \n",
            " 6   int_memory     2000 non-null   int64  \n",
            " 7   m_dep          2000 non-null   float64\n",
            " 8   mobile_wt      2000 non-null   int64  \n",
            " 9   n_cores        2000 non-null   int64  \n",
            " 10  pc             2000 non-null   int64  \n",
            " 11  px_height      2000 non-null   int64  \n",
            " 12  px_width       2000 non-null   int64  \n",
            " 13  ram            2000 non-null   int64  \n",
            " 14  sc_h           2000 non-null   int64  \n",
            " 15  sc_w           2000 non-null   int64  \n",
            " 16  talk_time      2000 non-null   int64  \n",
            " 17  three_g        2000 non-null   int64  \n",
            " 18  touch_screen   2000 non-null   int64  \n",
            " 19  wifi           2000 non-null   int64  \n",
            " 20  price_range    2000 non-null   int64  \n",
            "dtypes: float64(2), int64(19)\n",
            "memory usage: 328.2 KB\n"
          ]
        }
      ]
    },
    {
      "cell_type": "code",
      "metadata": {
        "colab": {
          "base_uri": "https://localhost:8080/",
          "height": 700
        },
        "id": "uo4158W0z5_c",
        "outputId": "6219330f-ebfb-4ccc-e7cc-113d731c7faf"
      },
      "source": [
        "# table to return datatype, null count and unique counnt\n",
        "def printinfo():\n",
        "    temp = pd.DataFrame(index=dataset.columns)\n",
        "    temp['data_type'] = dataset.dtypes\n",
        "    temp['null_count'] = dataset.isnull().sum()\n",
        "    temp['unique_count'] = dataset.nunique()\n",
        "    return temp\n",
        "\n",
        "printinfo()"
      ],
      "execution_count": 8,
      "outputs": [
        {
          "output_type": "execute_result",
          "data": {
            "text/html": [
              "<div>\n",
              "<style scoped>\n",
              "    .dataframe tbody tr th:only-of-type {\n",
              "        vertical-align: middle;\n",
              "    }\n",
              "\n",
              "    .dataframe tbody tr th {\n",
              "        vertical-align: top;\n",
              "    }\n",
              "\n",
              "    .dataframe thead th {\n",
              "        text-align: right;\n",
              "    }\n",
              "</style>\n",
              "<table border=\"1\" class=\"dataframe\">\n",
              "  <thead>\n",
              "    <tr style=\"text-align: right;\">\n",
              "      <th></th>\n",
              "      <th>data_type</th>\n",
              "      <th>null_count</th>\n",
              "      <th>unique_count</th>\n",
              "    </tr>\n",
              "  </thead>\n",
              "  <tbody>\n",
              "    <tr>\n",
              "      <th>battery_power</th>\n",
              "      <td>int64</td>\n",
              "      <td>0</td>\n",
              "      <td>1094</td>\n",
              "    </tr>\n",
              "    <tr>\n",
              "      <th>blue</th>\n",
              "      <td>int64</td>\n",
              "      <td>0</td>\n",
              "      <td>2</td>\n",
              "    </tr>\n",
              "    <tr>\n",
              "      <th>clock_speed</th>\n",
              "      <td>float64</td>\n",
              "      <td>0</td>\n",
              "      <td>26</td>\n",
              "    </tr>\n",
              "    <tr>\n",
              "      <th>dual_sim</th>\n",
              "      <td>int64</td>\n",
              "      <td>0</td>\n",
              "      <td>2</td>\n",
              "    </tr>\n",
              "    <tr>\n",
              "      <th>fc</th>\n",
              "      <td>int64</td>\n",
              "      <td>0</td>\n",
              "      <td>20</td>\n",
              "    </tr>\n",
              "    <tr>\n",
              "      <th>four_g</th>\n",
              "      <td>int64</td>\n",
              "      <td>0</td>\n",
              "      <td>2</td>\n",
              "    </tr>\n",
              "    <tr>\n",
              "      <th>int_memory</th>\n",
              "      <td>int64</td>\n",
              "      <td>0</td>\n",
              "      <td>63</td>\n",
              "    </tr>\n",
              "    <tr>\n",
              "      <th>m_dep</th>\n",
              "      <td>float64</td>\n",
              "      <td>0</td>\n",
              "      <td>10</td>\n",
              "    </tr>\n",
              "    <tr>\n",
              "      <th>mobile_wt</th>\n",
              "      <td>int64</td>\n",
              "      <td>0</td>\n",
              "      <td>121</td>\n",
              "    </tr>\n",
              "    <tr>\n",
              "      <th>n_cores</th>\n",
              "      <td>int64</td>\n",
              "      <td>0</td>\n",
              "      <td>8</td>\n",
              "    </tr>\n",
              "    <tr>\n",
              "      <th>pc</th>\n",
              "      <td>int64</td>\n",
              "      <td>0</td>\n",
              "      <td>21</td>\n",
              "    </tr>\n",
              "    <tr>\n",
              "      <th>px_height</th>\n",
              "      <td>int64</td>\n",
              "      <td>0</td>\n",
              "      <td>1137</td>\n",
              "    </tr>\n",
              "    <tr>\n",
              "      <th>px_width</th>\n",
              "      <td>int64</td>\n",
              "      <td>0</td>\n",
              "      <td>1109</td>\n",
              "    </tr>\n",
              "    <tr>\n",
              "      <th>ram</th>\n",
              "      <td>int64</td>\n",
              "      <td>0</td>\n",
              "      <td>1562</td>\n",
              "    </tr>\n",
              "    <tr>\n",
              "      <th>sc_h</th>\n",
              "      <td>int64</td>\n",
              "      <td>0</td>\n",
              "      <td>15</td>\n",
              "    </tr>\n",
              "    <tr>\n",
              "      <th>sc_w</th>\n",
              "      <td>int64</td>\n",
              "      <td>0</td>\n",
              "      <td>19</td>\n",
              "    </tr>\n",
              "    <tr>\n",
              "      <th>talk_time</th>\n",
              "      <td>int64</td>\n",
              "      <td>0</td>\n",
              "      <td>19</td>\n",
              "    </tr>\n",
              "    <tr>\n",
              "      <th>three_g</th>\n",
              "      <td>int64</td>\n",
              "      <td>0</td>\n",
              "      <td>2</td>\n",
              "    </tr>\n",
              "    <tr>\n",
              "      <th>touch_screen</th>\n",
              "      <td>int64</td>\n",
              "      <td>0</td>\n",
              "      <td>2</td>\n",
              "    </tr>\n",
              "    <tr>\n",
              "      <th>wifi</th>\n",
              "      <td>int64</td>\n",
              "      <td>0</td>\n",
              "      <td>2</td>\n",
              "    </tr>\n",
              "    <tr>\n",
              "      <th>price_range</th>\n",
              "      <td>int64</td>\n",
              "      <td>0</td>\n",
              "      <td>4</td>\n",
              "    </tr>\n",
              "  </tbody>\n",
              "</table>\n",
              "</div>"
            ],
            "text/plain": [
              "              data_type  null_count  unique_count\n",
              "battery_power     int64           0          1094\n",
              "blue              int64           0             2\n",
              "clock_speed     float64           0            26\n",
              "dual_sim          int64           0             2\n",
              "fc                int64           0            20\n",
              "four_g            int64           0             2\n",
              "int_memory        int64           0            63\n",
              "m_dep           float64           0            10\n",
              "mobile_wt         int64           0           121\n",
              "n_cores           int64           0             8\n",
              "pc                int64           0            21\n",
              "px_height         int64           0          1137\n",
              "px_width          int64           0          1109\n",
              "ram               int64           0          1562\n",
              "sc_h              int64           0            15\n",
              "sc_w              int64           0            19\n",
              "talk_time         int64           0            19\n",
              "three_g           int64           0             2\n",
              "touch_screen      int64           0             2\n",
              "wifi              int64           0             2\n",
              "price_range       int64           0             4"
            ]
          },
          "metadata": {},
          "execution_count": 8
        }
      ]
    },
    {
      "cell_type": "markdown",
      "metadata": {
        "id": "PhklSHoR0I2I"
      },
      "source": [
        "As shown above , there are no null values in the dataset. There are 4 unique values in 'price_range'(dependent) variable."
      ]
    },
    {
      "cell_type": "code",
      "metadata": {
        "colab": {
          "base_uri": "https://localhost:8080/",
          "height": 317
        },
        "id": "5_mXJkW70XRq",
        "outputId": "d3c88da1-7cac-4a7b-c5a4-2560440dca7e"
      },
      "source": [
        "#It gives some basic statistical details like percentile, mean, std, max etc.\n",
        "dataset.describe()"
      ],
      "execution_count": 9,
      "outputs": [
        {
          "output_type": "execute_result",
          "data": {
            "text/html": [
              "<div>\n",
              "<style scoped>\n",
              "    .dataframe tbody tr th:only-of-type {\n",
              "        vertical-align: middle;\n",
              "    }\n",
              "\n",
              "    .dataframe tbody tr th {\n",
              "        vertical-align: top;\n",
              "    }\n",
              "\n",
              "    .dataframe thead th {\n",
              "        text-align: right;\n",
              "    }\n",
              "</style>\n",
              "<table border=\"1\" class=\"dataframe\">\n",
              "  <thead>\n",
              "    <tr style=\"text-align: right;\">\n",
              "      <th></th>\n",
              "      <th>battery_power</th>\n",
              "      <th>blue</th>\n",
              "      <th>clock_speed</th>\n",
              "      <th>dual_sim</th>\n",
              "      <th>fc</th>\n",
              "      <th>four_g</th>\n",
              "      <th>int_memory</th>\n",
              "      <th>m_dep</th>\n",
              "      <th>mobile_wt</th>\n",
              "      <th>n_cores</th>\n",
              "      <th>pc</th>\n",
              "      <th>px_height</th>\n",
              "      <th>px_width</th>\n",
              "      <th>ram</th>\n",
              "      <th>sc_h</th>\n",
              "      <th>sc_w</th>\n",
              "      <th>talk_time</th>\n",
              "      <th>three_g</th>\n",
              "      <th>touch_screen</th>\n",
              "      <th>wifi</th>\n",
              "      <th>price_range</th>\n",
              "    </tr>\n",
              "  </thead>\n",
              "  <tbody>\n",
              "    <tr>\n",
              "      <th>count</th>\n",
              "      <td>2000.000000</td>\n",
              "      <td>2000.0000</td>\n",
              "      <td>2000.000000</td>\n",
              "      <td>2000.000000</td>\n",
              "      <td>2000.000000</td>\n",
              "      <td>2000.000000</td>\n",
              "      <td>2000.000000</td>\n",
              "      <td>2000.000000</td>\n",
              "      <td>2000.000000</td>\n",
              "      <td>2000.000000</td>\n",
              "      <td>2000.000000</td>\n",
              "      <td>2000.000000</td>\n",
              "      <td>2000.000000</td>\n",
              "      <td>2000.000000</td>\n",
              "      <td>2000.000000</td>\n",
              "      <td>2000.000000</td>\n",
              "      <td>2000.000000</td>\n",
              "      <td>2000.000000</td>\n",
              "      <td>2000.000000</td>\n",
              "      <td>2000.000000</td>\n",
              "      <td>2000.000000</td>\n",
              "    </tr>\n",
              "    <tr>\n",
              "      <th>mean</th>\n",
              "      <td>1238.518500</td>\n",
              "      <td>0.4950</td>\n",
              "      <td>1.522250</td>\n",
              "      <td>0.509500</td>\n",
              "      <td>4.309500</td>\n",
              "      <td>0.521500</td>\n",
              "      <td>32.046500</td>\n",
              "      <td>0.501750</td>\n",
              "      <td>140.249000</td>\n",
              "      <td>4.520500</td>\n",
              "      <td>9.916500</td>\n",
              "      <td>645.108000</td>\n",
              "      <td>1251.515500</td>\n",
              "      <td>2124.213000</td>\n",
              "      <td>12.306500</td>\n",
              "      <td>5.767000</td>\n",
              "      <td>11.011000</td>\n",
              "      <td>0.761500</td>\n",
              "      <td>0.503000</td>\n",
              "      <td>0.507000</td>\n",
              "      <td>1.500000</td>\n",
              "    </tr>\n",
              "    <tr>\n",
              "      <th>std</th>\n",
              "      <td>439.418206</td>\n",
              "      <td>0.5001</td>\n",
              "      <td>0.816004</td>\n",
              "      <td>0.500035</td>\n",
              "      <td>4.341444</td>\n",
              "      <td>0.499662</td>\n",
              "      <td>18.145715</td>\n",
              "      <td>0.288416</td>\n",
              "      <td>35.399655</td>\n",
              "      <td>2.287837</td>\n",
              "      <td>6.064315</td>\n",
              "      <td>443.780811</td>\n",
              "      <td>432.199447</td>\n",
              "      <td>1084.732044</td>\n",
              "      <td>4.213245</td>\n",
              "      <td>4.356398</td>\n",
              "      <td>5.463955</td>\n",
              "      <td>0.426273</td>\n",
              "      <td>0.500116</td>\n",
              "      <td>0.500076</td>\n",
              "      <td>1.118314</td>\n",
              "    </tr>\n",
              "    <tr>\n",
              "      <th>min</th>\n",
              "      <td>501.000000</td>\n",
              "      <td>0.0000</td>\n",
              "      <td>0.500000</td>\n",
              "      <td>0.000000</td>\n",
              "      <td>0.000000</td>\n",
              "      <td>0.000000</td>\n",
              "      <td>2.000000</td>\n",
              "      <td>0.100000</td>\n",
              "      <td>80.000000</td>\n",
              "      <td>1.000000</td>\n",
              "      <td>0.000000</td>\n",
              "      <td>0.000000</td>\n",
              "      <td>500.000000</td>\n",
              "      <td>256.000000</td>\n",
              "      <td>5.000000</td>\n",
              "      <td>0.000000</td>\n",
              "      <td>2.000000</td>\n",
              "      <td>0.000000</td>\n",
              "      <td>0.000000</td>\n",
              "      <td>0.000000</td>\n",
              "      <td>0.000000</td>\n",
              "    </tr>\n",
              "    <tr>\n",
              "      <th>25%</th>\n",
              "      <td>851.750000</td>\n",
              "      <td>0.0000</td>\n",
              "      <td>0.700000</td>\n",
              "      <td>0.000000</td>\n",
              "      <td>1.000000</td>\n",
              "      <td>0.000000</td>\n",
              "      <td>16.000000</td>\n",
              "      <td>0.200000</td>\n",
              "      <td>109.000000</td>\n",
              "      <td>3.000000</td>\n",
              "      <td>5.000000</td>\n",
              "      <td>282.750000</td>\n",
              "      <td>874.750000</td>\n",
              "      <td>1207.500000</td>\n",
              "      <td>9.000000</td>\n",
              "      <td>2.000000</td>\n",
              "      <td>6.000000</td>\n",
              "      <td>1.000000</td>\n",
              "      <td>0.000000</td>\n",
              "      <td>0.000000</td>\n",
              "      <td>0.750000</td>\n",
              "    </tr>\n",
              "    <tr>\n",
              "      <th>50%</th>\n",
              "      <td>1226.000000</td>\n",
              "      <td>0.0000</td>\n",
              "      <td>1.500000</td>\n",
              "      <td>1.000000</td>\n",
              "      <td>3.000000</td>\n",
              "      <td>1.000000</td>\n",
              "      <td>32.000000</td>\n",
              "      <td>0.500000</td>\n",
              "      <td>141.000000</td>\n",
              "      <td>4.000000</td>\n",
              "      <td>10.000000</td>\n",
              "      <td>564.000000</td>\n",
              "      <td>1247.000000</td>\n",
              "      <td>2146.500000</td>\n",
              "      <td>12.000000</td>\n",
              "      <td>5.000000</td>\n",
              "      <td>11.000000</td>\n",
              "      <td>1.000000</td>\n",
              "      <td>1.000000</td>\n",
              "      <td>1.000000</td>\n",
              "      <td>1.500000</td>\n",
              "    </tr>\n",
              "    <tr>\n",
              "      <th>75%</th>\n",
              "      <td>1615.250000</td>\n",
              "      <td>1.0000</td>\n",
              "      <td>2.200000</td>\n",
              "      <td>1.000000</td>\n",
              "      <td>7.000000</td>\n",
              "      <td>1.000000</td>\n",
              "      <td>48.000000</td>\n",
              "      <td>0.800000</td>\n",
              "      <td>170.000000</td>\n",
              "      <td>7.000000</td>\n",
              "      <td>15.000000</td>\n",
              "      <td>947.250000</td>\n",
              "      <td>1633.000000</td>\n",
              "      <td>3064.500000</td>\n",
              "      <td>16.000000</td>\n",
              "      <td>9.000000</td>\n",
              "      <td>16.000000</td>\n",
              "      <td>1.000000</td>\n",
              "      <td>1.000000</td>\n",
              "      <td>1.000000</td>\n",
              "      <td>2.250000</td>\n",
              "    </tr>\n",
              "    <tr>\n",
              "      <th>max</th>\n",
              "      <td>1998.000000</td>\n",
              "      <td>1.0000</td>\n",
              "      <td>3.000000</td>\n",
              "      <td>1.000000</td>\n",
              "      <td>19.000000</td>\n",
              "      <td>1.000000</td>\n",
              "      <td>64.000000</td>\n",
              "      <td>1.000000</td>\n",
              "      <td>200.000000</td>\n",
              "      <td>8.000000</td>\n",
              "      <td>20.000000</td>\n",
              "      <td>1960.000000</td>\n",
              "      <td>1998.000000</td>\n",
              "      <td>3998.000000</td>\n",
              "      <td>19.000000</td>\n",
              "      <td>18.000000</td>\n",
              "      <td>20.000000</td>\n",
              "      <td>1.000000</td>\n",
              "      <td>1.000000</td>\n",
              "      <td>1.000000</td>\n",
              "      <td>3.000000</td>\n",
              "    </tr>\n",
              "  </tbody>\n",
              "</table>\n",
              "</div>"
            ],
            "text/plain": [
              "       battery_power       blue  ...         wifi  price_range\n",
              "count    2000.000000  2000.0000  ...  2000.000000  2000.000000\n",
              "mean     1238.518500     0.4950  ...     0.507000     1.500000\n",
              "std       439.418206     0.5001  ...     0.500076     1.118314\n",
              "min       501.000000     0.0000  ...     0.000000     0.000000\n",
              "25%       851.750000     0.0000  ...     0.000000     0.750000\n",
              "50%      1226.000000     0.0000  ...     1.000000     1.500000\n",
              "75%      1615.250000     1.0000  ...     1.000000     2.250000\n",
              "max      1998.000000     1.0000  ...     1.000000     3.000000\n",
              "\n",
              "[8 rows x 21 columns]"
            ]
          },
          "metadata": {},
          "execution_count": 9
        }
      ]
    },
    {
      "cell_type": "markdown",
      "metadata": {
        "id": "YVdqMKgX9QLy"
      },
      "source": [
        "#**Exploratory Data Analysis**\n",
        "\n"
      ]
    },
    {
      "cell_type": "code",
      "metadata": {
        "colab": {
          "base_uri": "https://localhost:8080/",
          "height": 369
        },
        "id": "i07Z0TJN9yfs",
        "outputId": "1856c767-c675-43e3-ecc7-22bfd0d253bc"
      },
      "source": [
        "#Creating subplot of each column with its own scale\n",
        "\n",
        "df = pd.DataFrame(data = dataset, columns=['battery_power','fc','px_height','px_width','ram'])\n",
        "red_circle = dict(markerfacecolor='red', marker='o', markeredgecolor='white')\n",
        "fig, axs = plt.subplots(1, len(df.columns), figsize=(12,5))\n",
        "\n",
        "for i, ax in enumerate(axs.flat):\n",
        "    ax.boxplot(df.iloc[:,i], flierprops=red_circle)\n",
        "    ax.set_title(df.columns[i], fontsize=15, fontweight='bold')\n",
        "    ax.tick_params(axis='y', labelsize=14)\n",
        "    \n",
        "plt.tight_layout()"
      ],
      "execution_count": 10,
      "outputs": [
        {
          "output_type": "display_data",
          "data": {
            "image/png": "[encoded data removed]",
            "text/plain": [
              "<Figure size 864x360 with 5 Axes>"
            ]
          },
          "metadata": {
            "needs_background": "light"
          }
        }
      ]
    },
    {
      "cell_type": "markdown",
      "metadata": {
        "id": "iSA5ECGTkkSa"
      },
      "source": [
        "As shown in figure, There are few outliers present in 'front camera' and 'px_height' in dataset."
      ]
    },
    {
      "cell_type": "code",
      "metadata": {
        "colab": {
          "base_uri": "https://localhost:8080/"
        },
        "id": "qL2GUkHa_J6u",
        "outputId": "8eaff581-fb3b-4a6f-b111-928a0e2baa74"
      },
      "source": [
        "#Removing outliers\n",
        "\n",
        "Q1 = dataset['px_height'].quantile(0.25)\n",
        "Q3 = dataset['px_height'].quantile(0.75)\n",
        "IQR = Q3 - Q1\n",
        "all_cols = dataset.columns\n",
        "idx = dataset[((dataset['px_height'] < (Q1 - 1.5 * IQR)) | (dataset['px_height'] > (Q3 + 1.5 * IQR)))] [all_cols].index\n",
        "dataset = dataset.drop(dataset.index[idx])\n",
        "dataset.shape"
      ],
      "execution_count": 11,
      "outputs": [
        {
          "output_type": "execute_result",
          "data": {
            "text/plain": [
              "(1998, 21)"
            ]
          },
          "metadata": {},
          "execution_count": 11
        }
      ]
    },
    {
      "cell_type": "code",
      "metadata": {
        "colab": {
          "base_uri": "https://localhost:8080/"
        },
        "id": "TmbaA85l__dR",
        "outputId": "cc1311ed-e50a-4f3f-c742-1630439398bd"
      },
      "source": [
        "#Removing outliers\n",
        "\n",
        "Q1 = dataset['fc'].quantile(0.25)\n",
        "Q3 = dataset['fc'].quantile(0.75)\n",
        "IQR = Q3 - Q1\n",
        "all_cols = dataset.columns\n",
        "idx = dataset[((dataset['fc'] < (Q1 - 1.5 * IQR)) | (dataset['fc'] > (Q3 + 1.5 * IQR)))] [all_cols].index\n",
        "dataset = dataset.drop(dataset.index[idx])\n",
        "dataset.shape"
      ],
      "execution_count": 12,
      "outputs": [
        {
          "output_type": "execute_result",
          "data": {
            "text/plain": [
              "(1980, 21)"
            ]
          },
          "metadata": {},
          "execution_count": 12
        }
      ]
    },
    {
      "cell_type": "markdown",
      "metadata": {
        "id": "aGsUaR85juBk"
      },
      "source": [
        "After removing outliers, there are 1980 rows and 21 columns in dataset."
      ]
    },
    {
      "cell_type": "code",
      "metadata": {
        "colab": {
          "base_uri": "https://localhost:8080/",
          "height": 264
        },
        "id": "cG0OQUQ2WCy1",
        "outputId": "a953e4dc-b32f-44ae-b2ea-c29ed524991a"
      },
      "source": [
        "#Creating pie-chart\n",
        "\n",
        "labels = [\"Low cost\", \"Medium cost\", \"High cost\", \"Very High cost\"]\n",
        "values = dataset['price_range'].value_counts().values\n",
        "colors = ['yellow','turquoise','lightblue', 'pink']\n",
        "fig1, ax1 = plt.subplots()\n",
        "ax1.pie(values, labels=labels, colors=colors, autopct='%1.1f%%', shadow=True,radius = 1.2,textprops = {\"fontsize\":15})\n",
        "ax1.set_title('Price Range')\n",
        "plt.show()"
      ],
      "execution_count": 13,
      "outputs": [
        {
          "output_type": "display_data",
          "data": {
            "image/png": "[encoded data removed]",
            "text/plain": [
              "<Figure size 432x288 with 1 Axes>"
            ]
          },
          "metadata": {}
        }
      ]
    },
    {
      "cell_type": "markdown",
      "metadata": {
        "id": "_7loE2ACZjA4"
      },
      "source": [
        "As shown above, all phones have equal weightage among price-range."
      ]
    },
    {
      "cell_type": "code",
      "metadata": {
        "colab": {
          "base_uri": "https://localhost:8080/",
          "height": 389
        },
        "id": "ZLbcx2JdM-do",
        "outputId": "f1620d2d-b974-4387-aacb-ff7a9e685971"
      },
      "source": [
        "plt.figure(figsize=[15,15])\n",
        "graph = sns.catplot(x= 'price_range', y = 'battery_power', data = dataset, kind = \"bar\", height=5,aspect=1.9)\n",
        "plt.title('Battery Power vs Price Range', fontsize = 15)\n",
        "graph.set_xticklabels(labels, rotation = 0, fontsize='large')\n",
        "plt.tight_layout()\n",
        "plt.xlabel('Price Range',fontsize='x-large',fontweight='bold')\n",
        "plt.ylabel('Battery Power',fontsize='x-large',fontweight='bold')\n",
        "plt.show()"
      ],
      "execution_count": 14,
      "outputs": [
        {
          "output_type": "display_data",
          "data": {
            "text/plain": [
              "<Figure size 1080x1080 with 0 Axes>"
            ]
          },
          "metadata": {}
        },
        {
          "output_type": "display_data",
          "data": {
            "image/png": "[encoded data removed]",
            "text/plain": [
              "<Figure size 684x360 with 1 Axes>"
            ]
          },
          "metadata": {
            "needs_background": "light"
          }
        }
      ]
    },
    {
      "cell_type": "markdown",
      "metadata": {
        "id": "_Q6OP4bcgj2H"
      },
      "source": [
        "As shown above, Price range increases with increment in Battery power capacity."
      ]
    },
    {
      "cell_type": "code",
      "metadata": {
        "colab": {
          "base_uri": "https://localhost:8080/",
          "height": 389
        },
        "id": "Jvvqp0c1MkPO",
        "outputId": "814e1183-6ee1-46c5-ee78-94b068630682"
      },
      "source": [
        "plt.figure(figsize=[20,15])\n",
        "graph = sns.catplot(x= 'price_range', y = 'ram', data = dataset, kind = \"box\", height=5,aspect=1.9)\n",
        "plt.title('Ram vs Price Range', fontsize = 15)\n",
        "graph.set_xticklabels(labels, rotation = 0, fontsize='large')\n",
        "plt.tight_layout()\n",
        "plt.xlabel('Price Range',fontsize='x-large',fontweight='bold')\n",
        "plt.ylabel('Ram',fontsize='x-large',fontweight='bold')\n",
        "plt.show()"
      ],
      "execution_count": 15,
      "outputs": [
        {
          "output_type": "display_data",
          "data": {
            "text/plain": [
              "<Figure size 1440x1080 with 0 Axes>"
            ]
          },
          "metadata": {}
        },
        {
          "output_type": "display_data",
          "data": {
            "image/png": "[encoded data removed]",
            "text/plain": [
              "<Figure size 684x360 with 1 Axes>"
            ]
          },
          "metadata": {
            "needs_background": "light"
          }
        }
      ]
    },
    {
      "cell_type": "markdown",
      "metadata": {
        "id": "Lw9dibSLhp1S"
      },
      "source": [
        "As shown above, Price range increases with increment in RAM capacity."
      ]
    },
    {
      "cell_type": "code",
      "metadata": {
        "colab": {
          "base_uri": "https://localhost:8080/",
          "height": 389
        },
        "id": "efK_nkc-yJMj",
        "outputId": "59080625-17e9-400c-ea90-b2a0bd46c4ef"
      },
      "source": [
        "plt.figure(figsize=(14,6))\n",
        "graph = sns.catplot(x=\"price_range\", y=\"int_memory\",kind='bar', data=dataset, height=5,aspect=1.9)\n",
        "plt.title('Internal Memory vs Price Range', fontsize = 15)\n",
        "graph.set_xticklabels(labels, rotation = 0, fontsize='large')\n",
        "plt.tight_layout()\n",
        "plt.xlabel('Price Range',fontsize='x-large',fontweight='bold')\n",
        "plt.ylabel('Internal Memory',fontsize='x-large',fontweight='bold')\n",
        "plt.show()"
      ],
      "execution_count": 16,
      "outputs": [
        {
          "output_type": "display_data",
          "data": {
            "text/plain": [
              "<Figure size 1008x432 with 0 Axes>"
            ]
          },
          "metadata": {}
        },
        {
          "output_type": "display_data",
          "data": {
            "image/png": "[encoded data removed]",
            "text/plain": [
              "<Figure size 684x360 with 1 Axes>"
            ]
          },
          "metadata": {
            "needs_background": "light"
          }
        }
      ]
    },
    {
      "cell_type": "markdown",
      "metadata": {
        "id": "e6W3tXor-SXn"
      },
      "source": [
        " There is not much of correlation between Internal Memory and Price Range."
      ]
    },
    {
      "cell_type": "code",
      "metadata": {
        "colab": {
          "base_uri": "https://localhost:8080/",
          "height": 475
        },
        "id": "hTX8dym9SR2w",
        "outputId": "51dd695d-9348-40e4-f730-9afb186a500b"
      },
      "source": [
        "plt.figure(figsize=(9,6))\n",
        "plt.title(\"Histogram of Front camera\")\n",
        "sns.distplot(dataset['fc'],color=\"r\")"
      ],
      "execution_count": 17,
      "outputs": [
        {
          "output_type": "stream",
          "name": "stderr",
          "text": [
            "/usr/local/lib/python3.7/dist-packages/seaborn/distributions.py:2619: FutureWarning: `distplot` is a deprecated function and will be removed in a future version. Please adapt your code to use either `displot` (a figure-level function with similar flexibility) or `histplot` (an axes-level function for histograms).\n",
            "  warnings.warn(msg, FutureWarning)\n"
          ]
        },
        {
          "output_type": "execute_result",
          "data": {
            "text/plain": [
              "<matplotlib.axes._subplots.AxesSubplot at 0x7f75d5204110>"
            ]
          },
          "metadata": {},
          "execution_count": 17
        },
        {
          "output_type": "display_data",
          "data": {
            "image/png": "[encoded data removed]",
            "text/plain": [
              "<Figure size 648x432 with 1 Axes>"
            ]
          },
          "metadata": {
            "needs_background": "light"
          }
        }
      ]
    },
    {
      "cell_type": "markdown",
      "metadata": {
        "id": "UPmJUFEkSq09"
      },
      "source": [
        "We can see that a lot of mobile phones are built with front cameras which have less MegaPixels."
      ]
    },
    {
      "cell_type": "code",
      "metadata": {
        "colab": {
          "base_uri": "https://localhost:8080/",
          "height": 389
        },
        "id": "d1hc9pO0kc3_",
        "outputId": "28a27921-47c0-40a9-f7d2-69743c585db7"
      },
      "source": [
        "plt.figure(figsize=(12,6))\n",
        "plt.subplot(1,2,1)\n",
        "sns.barplot(x = \"price_range\", y = \"px_height\" , data= dataset, palette = \"Reds\")\n",
        "plt.subplot(1,2,2)\n",
        "sns.barplot(x = \"price_range\" , y = \"px_width\" , data= dataset, palette = \"Blues\")\n",
        "plt.show()"
      ],
      "execution_count": 18,
      "outputs": [
        {
          "output_type": "display_data",
          "data": {
            "image/png": "[encoded data removed]",
            "text/plain": [
              "<Figure size 864x432 with 2 Axes>"
            ]
          },
          "metadata": {
            "needs_background": "light"
          }
        }
      ]
    },
    {
      "cell_type": "markdown",
      "metadata": {
        "id": "_m8OXjGHlWai"
      },
      "source": [
        "As we can see, Generally price increases with increment in size of screen."
      ]
    },
    {
      "cell_type": "code",
      "metadata": {
        "colab": {
          "base_uri": "https://localhost:8080/",
          "height": 389
        },
        "id": "TOaFiI6bpQHC",
        "outputId": "76f53ab6-66c4-4ccb-d6b6-22195fad3e8a"
      },
      "source": [
        "plt.figure(figsize=(14,6))\n",
        "graph = sns.catplot(x=\"price_range\", y=\"talk_time\", kind=\"point\", data=dataset, height=5,aspect=1.9)\n",
        "plt.title('Average Talk Time by Price Range', fontsize = 15)\n",
        "graph.set_xticklabels(labels, rotation = 0, fontsize='large')\n",
        "plt.tight_layout()\n",
        "plt.xlabel('Price Range',fontsize='x-large',fontweight='bold')\n",
        "plt.ylabel('Average Talk Time',fontsize='x-large',fontweight='bold')\n",
        "plt.show()"
      ],
      "execution_count": 19,
      "outputs": [
        {
          "output_type": "display_data",
          "data": {
            "text/plain": [
              "<Figure size 1008x432 with 0 Axes>"
            ]
          },
          "metadata": {}
        },
        {
          "output_type": "display_data",
          "data": {
            "image/png": "[encoded data removed]",
            "text/plain": [
              "<Figure size 684x360 with 1 Axes>"
            ]
          },
          "metadata": {
            "needs_background": "light"
          }
        }
      ]
    },
    {
      "cell_type": "markdown",
      "metadata": {
        "id": "lnspxN7HprOx"
      },
      "source": [
        "The Average Talktime of the medium cost mobile phones is higher than rest of the other priced mobile phones."
      ]
    },
    {
      "cell_type": "code",
      "metadata": {
        "id": "SZXrlMopMkSV",
        "colab": {
          "base_uri": "https://localhost:8080/",
          "height": 458
        },
        "outputId": "6cc6c51e-c2a3-470d-aa9f-bff2f8c2055f"
      },
      "source": [
        "# n_cores bar graph\n",
        "\n",
        "plt.figure(figsize=(13,6))\n",
        "plt.title(\"No. of Processor cores\")\n",
        "sns.countplot(dataset[\"n_cores\"] , hue = dataset[\"price_range\"] , palette = \"Accent\")\n",
        "plt.show()"
      ],
      "execution_count": 20,
      "outputs": [
        {
          "output_type": "stream",
          "name": "stderr",
          "text": [
            "/usr/local/lib/python3.7/dist-packages/seaborn/_decorators.py:43: FutureWarning: Pass the following variable as a keyword arg: x. From version 0.12, the only valid positional argument will be `data`, and passing other arguments without an explicit keyword will result in an error or misinterpretation.\n",
            "  FutureWarning\n"
          ]
        },
        {
          "output_type": "display_data",
          "data": {
            "image/png": "[encoded data removed]",
            "text/plain": [
              "<Figure size 936x432 with 1 Axes>"
            ]
          },
          "metadata": {
            "needs_background": "light"
          }
        }
      ]
    },
    {
      "cell_type": "code",
      "metadata": {
        "colab": {
          "base_uri": "https://localhost:8080/",
          "height": 459
        },
        "id": "2YkJT2bTRIYp",
        "outputId": "3d408d7d-cbea-4f69-a2bf-fa4246de1550"
      },
      "source": [
        "#4g bar graph\n",
        "plt.figure(figsize=(13,6))\n",
        "plt.title(\"4G compatibility\")\n",
        "sns.countplot(dataset[\"four_g\"] , hue = dataset[\"price_range\"] , palette = \"Accent\")\n",
        "plt.show()"
      ],
      "execution_count": 21,
      "outputs": [
        {
          "output_type": "stream",
          "name": "stderr",
          "text": [
            "/usr/local/lib/python3.7/dist-packages/seaborn/_decorators.py:43: FutureWarning: Pass the following variable as a keyword arg: x. From version 0.12, the only valid positional argument will be `data`, and passing other arguments without an explicit keyword will result in an error or misinterpretation.\n",
            "  FutureWarning\n"
          ]
        },
        {
          "output_type": "display_data",
          "data": {
            "image/png": "[encoded data removed]",
            "text/plain": [
              "<Figure size 936x432 with 1 Axes>"
            ]
          },
          "metadata": {
            "needs_background": "light"
          }
        }
      ]
    },
    {
      "cell_type": "markdown",
      "metadata": {
        "id": "vY1x3LTfTDWG"
      },
      "source": [
        "We can see, more than half of mobile phones are 4G."
      ]
    },
    {
      "cell_type": "code",
      "metadata": {
        "id": "1Df-a7xGMkU3",
        "colab": {
          "base_uri": "https://localhost:8080/",
          "height": 458
        },
        "outputId": "8e9c1e29-8e05-4812-f954-298518dc539b"
      },
      "source": [
        "#bluetooth bargraph\n",
        "plt.figure(figsize=(13,6))\n",
        "plt.title(\"Bluetooth compatibility\")\n",
        "sns.countplot(dataset[\"blue\"] , hue = dataset[\"price_range\"] , palette = \"Accent\")\n",
        "plt.show()"
      ],
      "execution_count": 22,
      "outputs": [
        {
          "output_type": "stream",
          "name": "stderr",
          "text": [
            "/usr/local/lib/python3.7/dist-packages/seaborn/_decorators.py:43: FutureWarning: Pass the following variable as a keyword arg: x. From version 0.12, the only valid positional argument will be `data`, and passing other arguments without an explicit keyword will result in an error or misinterpretation.\n",
            "  FutureWarning\n"
          ]
        },
        {
          "output_type": "display_data",
          "data": {
            "image/png": "[encoded data removed]",
            "text/plain": [
              "<Figure size 936x432 with 1 Axes>"
            ]
          },
          "metadata": {
            "needs_background": "light"
          }
        }
      ]
    },
    {
      "cell_type": "markdown",
      "metadata": {
        "id": "M6989Jxpgrx-"
      },
      "source": [
        "There is no impact of 'bluetooth' function with price. \n"
      ]
    },
    {
      "cell_type": "code",
      "metadata": {
        "colab": {
          "base_uri": "https://localhost:8080/",
          "height": 459
        },
        "id": "rpwYKMZVgoL8",
        "outputId": "d3e7dd95-210c-4870-809c-b8f216d38788"
      },
      "source": [
        "#Touchscreen bargraph\n",
        "plt.figure(figsize=(13,6))\n",
        "plt.title(\"Touch Screen\")\n",
        "sns.countplot(dataset[\"touch_screen\"] , hue = dataset[\"price_range\"] , palette = \"Accent\")\n",
        "plt.show()"
      ],
      "execution_count": 23,
      "outputs": [
        {
          "output_type": "stream",
          "name": "stderr",
          "text": [
            "/usr/local/lib/python3.7/dist-packages/seaborn/_decorators.py:43: FutureWarning: Pass the following variable as a keyword arg: x. From version 0.12, the only valid positional argument will be `data`, and passing other arguments without an explicit keyword will result in an error or misinterpretation.\n",
            "  FutureWarning\n"
          ]
        },
        {
          "output_type": "display_data",
          "data": {
            "image/png": "[encoded data removed]",
            "text/plain": [
              "<Figure size 936x432 with 1 Axes>"
            ]
          },
          "metadata": {
            "needs_background": "light"
          }
        }
      ]
    },
    {
      "cell_type": "markdown",
      "metadata": {
        "id": "HOTnqEwOorJN"
      },
      "source": [
        "There is no impact of 'Touch Screen' function with price. "
      ]
    },
    {
      "cell_type": "code",
      "metadata": {
        "colab": {
          "base_uri": "https://localhost:8080/",
          "height": 879
        },
        "id": "lV-yttopMkXJ",
        "outputId": "3a611999-552d-46e0-befd-d9e89d2f5867"
      },
      "source": [
        "#Histogram\n",
        "dataset.hist(figsize=(19,15),bins=20)\n",
        "plt.show()"
      ],
      "execution_count": 24,
      "outputs": [
        {
          "output_type": "display_data",
          "data": {
            "image/png": "[encoded data removed]",
            "text/plain": [
              "<Figure size 1368x1080 with 25 Axes>"
            ]
          },
          "metadata": {
            "needs_background": "light"
          }
        }
      ]
    },
    {
      "cell_type": "code",
      "metadata": {
        "colab": {
          "base_uri": "https://localhost:8080/",
          "height": 856
        },
        "id": "DxHkqB6vZMm4",
        "outputId": "5e872690-8979-430c-b5cc-7c1ab4125d54"
      },
      "source": [
        "#corelation\n",
        "fig = plt.subplots (figsize = (15, 15))\n",
        "sns.heatmap(dataset.corr (), square = True, cbar = True, annot = True, cmap='GnBu', annot_kws = {'size': 8})\n",
        "plt.title('Correlations between Attributes')\n",
        "plt.show()"
      ],
      "execution_count": 25,
      "outputs": [
        {
          "output_type": "display_data",
          "data": {
            "image/png": "[encoded data removed]",
            "text/plain": [
              "<Figure size 1080x1080 with 2 Axes>"
            ]
          },
          "metadata": {
            "needs_background": "light"
          }
        }
      ]
    },
    {
      "cell_type": "markdown",
      "metadata": {
        "id": "IivedQ62-nfq"
      },
      "source": [
        "\n",
        "We can see from this correlation matrix that:\n",
        "\n",
        "1) \"RAM\" & \"Price range\"(target variable) is highly correlated.\n",
        "\n",
        "2) Three_g & Four_g is moderately correlated.\n",
        "\n",
        "3) pc(primary camera) & fc(front camera) is moderately correlated.\n",
        "\n",
        "4) px_height & px_width is moderately correlated.\n",
        "\n",
        "5) sc_h & sc_w (screen height & screen width) is moderately correlated.\n",
        "\n",
        "6) Other variables have low correlation."
      ]
    },
    {
      "cell_type": "markdown",
      "metadata": {
        "id": "U5_HqBt0AzKY"
      },
      "source": [
        "#**Feature Engineering**"
      ]
    },
    {
      "cell_type": "code",
      "metadata": {
        "id": "ixXbzj-IAySB"
      },
      "source": [
        "#creating screen size and total pixels column\n",
        "\n",
        "dataset[\"screen_size\"] = ((dataset['sc_h']**2)+(dataset['sc_w']**2))**0.5\n",
        "dataset[\"pixels\"] = dataset[\"px_height\"] * dataset[\"px_width\"]"
      ],
      "execution_count": 26,
      "outputs": []
    },
    {
      "cell_type": "code",
      "metadata": {
        "id": "dDPQ2sX5Z-Fs"
      },
      "source": [
        "#Dropping original columns\n",
        "\n",
        "dataset.drop(columns=[\"sc_h\" , \"sc_w\" , \"px_height\" , \"px_width\"] , inplace= True)"
      ],
      "execution_count": 27,
      "outputs": []
    },
    {
      "cell_type": "code",
      "metadata": {
        "id": "--9YSDHXh2nP"
      },
      "source": [
        ""
      ],
      "execution_count": 27,
      "outputs": []
    },
    {
      "cell_type": "markdown",
      "metadata": {
        "id": "uAL7S0bG8zJr"
      },
      "source": [
        "#**Modelling**"
      ]
    },
    {
      "cell_type": "code",
      "metadata": {
        "id": "6R9ROCtV84sm"
      },
      "source": [
        "X = dataset.drop(\"price_range\" , axis = 1)\n",
        "y = dataset[\"price_range\"]"
      ],
      "execution_count": 28,
      "outputs": []
    },
    {
      "cell_type": "code",
      "metadata": {
        "colab": {
          "base_uri": "https://localhost:8080/"
        },
        "id": "xLSMtai7870J",
        "outputId": "9f4b36fc-96f6-4bb1-cf6f-f624f19c2f66"
      },
      "source": [
        "X.shape"
      ],
      "execution_count": 29,
      "outputs": [
        {
          "output_type": "execute_result",
          "data": {
            "text/plain": [
              "(1980, 18)"
            ]
          },
          "metadata": {},
          "execution_count": 29
        }
      ]
    },
    {
      "cell_type": "code",
      "metadata": {
        "colab": {
          "base_uri": "https://localhost:8080/"
        },
        "id": "NOUY9Oo495_j",
        "outputId": "3dbef67a-3028-41e6-dd33-b576a5db5d4b"
      },
      "source": [
        "y.shape"
      ],
      "execution_count": 30,
      "outputs": [
        {
          "output_type": "execute_result",
          "data": {
            "text/plain": [
              "(1980,)"
            ]
          },
          "metadata": {},
          "execution_count": 30
        }
      ]
    },
    {
      "cell_type": "code",
      "metadata": {
        "id": "HqYMBBfK97Hl"
      },
      "source": [
        "#Train-test split\n",
        "\n",
        "X_train, X_test, y_train , y_test = train_test_split(X , y , test_size = 0.25 , random_state = 0)"
      ],
      "execution_count": 31,
      "outputs": []
    },
    {
      "cell_type": "code",
      "metadata": {
        "colab": {
          "base_uri": "https://localhost:8080/"
        },
        "id": "seeqUOEh_h_t",
        "outputId": "bedf4d43-514e-4fe9-8928-ba2ae2b9b2b2"
      },
      "source": [
        "X_train.shape"
      ],
      "execution_count": 32,
      "outputs": [
        {
          "output_type": "execute_result",
          "data": {
            "text/plain": [
              "(1485, 18)"
            ]
          },
          "metadata": {},
          "execution_count": 32
        }
      ]
    },
    {
      "cell_type": "code",
      "metadata": {
        "colab": {
          "base_uri": "https://localhost:8080/"
        },
        "id": "u_E0IdeL_m5i",
        "outputId": "3be4d982-be92-423d-9ab5-71ea6222ae36"
      },
      "source": [
        "X_test.shape\n"
      ],
      "execution_count": 33,
      "outputs": [
        {
          "output_type": "execute_result",
          "data": {
            "text/plain": [
              "(495, 18)"
            ]
          },
          "metadata": {},
          "execution_count": 33
        }
      ]
    },
    {
      "cell_type": "code",
      "metadata": {
        "id": "LahsqAGo_pVx"
      },
      "source": [
        "# Standardization using Standard scaler\n",
        "\n",
        "from sklearn.preprocessing import StandardScaler\n",
        "scaler = StandardScaler()\n",
        "\n",
        "X_train = scaler.fit_transform(X_train)\n",
        "X_test = scaler.transform(X_test)"
      ],
      "execution_count": 34,
      "outputs": []
    },
    {
      "cell_type": "markdown",
      "metadata": {
        "id": "LtY3ihZN1JVp"
      },
      "source": [
        "#1) Logistic Regression"
      ]
    },
    {
      "cell_type": "code",
      "metadata": {
        "colab": {
          "base_uri": "https://localhost:8080/"
        },
        "id": "uN_tkrsy6Szk",
        "outputId": "0af03b54-7384-4bed-85ab-04e03667fefd"
      },
      "source": [
        "from sklearn.linear_model import LogisticRegression\n",
        "classifierLR = LogisticRegression(random_state = 0)\n",
        "classifierLR.fit(X_train, y_train)"
      ],
      "execution_count": 35,
      "outputs": [
        {
          "output_type": "execute_result",
          "data": {
            "text/plain": [
              "LogisticRegression(C=1.0, class_weight=None, dual=False, fit_intercept=True,\n",
              "                   intercept_scaling=1, l1_ratio=None, max_iter=100,\n",
              "                   multi_class='auto', n_jobs=None, penalty='l2',\n",
              "                   random_state=0, solver='lbfgs', tol=0.0001, verbose=0,\n",
              "                   warm_start=False)"
            ]
          },
          "metadata": {},
          "execution_count": 35
        }
      ]
    },
    {
      "cell_type": "code",
      "metadata": {
        "id": "6Uoi6tI8-wfQ",
        "colab": {
          "base_uri": "https://localhost:8080/"
        },
        "outputId": "ad2625f9-b572-4166-b0c2-e675555fe031"
      },
      "source": [
        "# Predicting the Test set results\n",
        "y_predLR = classifierLR.predict(X_test)\n",
        "y_predLR"
      ],
      "execution_count": 36,
      "outputs": [
        {
          "output_type": "execute_result",
          "data": {
            "text/plain": [
              "array([1, 0, 1, 3, 1, 3, 3, 3, 1, 1, 3, 3, 2, 2, 1, 2, 1, 0, 2, 3, 2, 3,\n",
              "       3, 0, 3, 0, 3, 1, 1, 3, 1, 3, 3, 0, 3, 3, 3, 3, 3, 2, 1, 3, 2, 1,\n",
              "       0, 3, 0, 1, 1, 3, 1, 0, 3, 2, 1, 1, 0, 2, 1, 3, 0, 1, 2, 0, 0, 3,\n",
              "       1, 2, 2, 2, 0, 1, 2, 3, 0, 0, 3, 2, 0, 2, 1, 0, 0, 0, 1, 2, 2, 1,\n",
              "       0, 0, 3, 3, 3, 2, 0, 1, 1, 3, 3, 1, 2, 2, 1, 0, 2, 2, 2, 3, 1, 0,\n",
              "       2, 0, 1, 3, 1, 3, 2, 0, 3, 2, 0, 2, 2, 3, 0, 0, 3, 2, 2, 2, 0, 0,\n",
              "       1, 1, 3, 2, 0, 1, 1, 2, 3, 1, 0, 0, 2, 2, 3, 3, 2, 0, 1, 0, 0, 1,\n",
              "       0, 0, 2, 2, 3, 1, 3, 3, 3, 3, 2, 1, 0, 0, 3, 1, 3, 3, 3, 0, 2, 1,\n",
              "       1, 0, 1, 3, 0, 1, 0, 0, 1, 3, 2, 2, 2, 3, 3, 2, 1, 1, 0, 2, 1, 3,\n",
              "       3, 2, 2, 1, 1, 2, 3, 1, 2, 3, 2, 3, 0, 1, 2, 1, 3, 0, 3, 0, 0, 2,\n",
              "       3, 0, 3, 3, 2, 3, 0, 3, 0, 0, 2, 1, 0, 1, 3, 0, 2, 2, 2, 0, 2, 2,\n",
              "       0, 3, 2, 0, 3, 1, 1, 0, 0, 0, 3, 2, 0, 2, 2, 2, 2, 2, 2, 2, 0, 3,\n",
              "       1, 3, 1, 2, 3, 1, 2, 0, 0, 1, 2, 0, 3, 3, 0, 2, 3, 3, 1, 3, 2, 1,\n",
              "       3, 0, 0, 1, 2, 2, 1, 2, 3, 1, 0, 2, 3, 2, 0, 2, 3, 3, 0, 2, 0, 3,\n",
              "       1, 3, 2, 2, 1, 2, 0, 2, 3, 0, 0, 0, 0, 0, 1, 3, 0, 1, 2, 0, 3, 2,\n",
              "       3, 3, 3, 3, 1, 3, 1, 1, 1, 2, 1, 0, 3, 0, 0, 1, 1, 2, 0, 1, 3, 1,\n",
              "       0, 1, 2, 3, 3, 2, 0, 1, 2, 2, 1, 3, 3, 1, 1, 0, 3, 0, 0, 0, 0, 0,\n",
              "       3, 1, 1, 3, 2, 3, 3, 2, 3, 3, 2, 2, 1, 1, 1, 1, 2, 1, 0, 0, 1, 2,\n",
              "       2, 2, 1, 3, 2, 2, 3, 2, 0, 2, 0, 0, 2, 2, 1, 1, 0, 0, 2, 0, 0, 0,\n",
              "       0, 2, 2, 0, 1, 3, 0, 2, 1, 2, 1, 0, 2, 0, 1, 2, 0, 2, 1, 2, 0, 3,\n",
              "       3, 2, 1, 2, 1, 0, 0, 3, 0, 0, 1, 3, 0, 0, 3, 1, 1, 1, 2, 3, 1, 3,\n",
              "       1, 2, 0, 3, 3, 2, 3, 3, 2, 0, 3, 2, 1, 3, 1, 1, 0, 2, 0, 1, 3, 2,\n",
              "       1, 3, 0, 1, 1, 2, 3, 0, 0, 3, 0])"
            ]
          },
          "metadata": {},
          "execution_count": 36
        }
      ]
    },
    {
      "cell_type": "code",
      "metadata": {
        "id": "VnzyWDTj-0MO",
        "colab": {
          "base_uri": "https://localhost:8080/"
        },
        "outputId": "985bea37-318e-4137-a301-cb1a1aaa07c7"
      },
      "source": [
        "# Confusion Matrix\n",
        "cmLR = confusion_matrix(y_test, y_predLR)\n",
        "cmLR"
      ],
      "execution_count": 37,
      "outputs": [
        {
          "output_type": "execute_result",
          "data": {
            "text/plain": [
              "array([[119,   7,   0,   0],\n",
              "       [  7, 104,   5,   0],\n",
              "       [  0,   5, 108,   6],\n",
              "       [  0,   0,  13, 121]])"
            ]
          },
          "metadata": {},
          "execution_count": 37
        }
      ]
    },
    {
      "cell_type": "code",
      "metadata": {
        "colab": {
          "base_uri": "https://localhost:8080/",
          "height": 353
        },
        "id": "mPxadTVCP8lj",
        "outputId": "8b501582-c5cd-4efc-f9c3-6ddd5d4193b6"
      },
      "source": [
        "#plotting confusion matrix\n",
        "cm = confusion_matrix(y_test, y_predLR)\n",
        "\n",
        "df1 = pd.DataFrame(columns=[\"0\",\"1\",\"2\",\"3\"], index= [\"0\",\"1\",\"2\",\"3\"], data= cm )\n",
        "\n",
        "f,ax = plt.subplots(figsize=(5,5))\n",
        "\n",
        "sns.heatmap(df1, annot=True,cmap=\"OrRd\", fmt= '.0f',\n",
        "            ax=ax,linewidths = 5, cbar = False,annot_kws={\"size\": 16})\n",
        "plt.xlabel(\"Predicted Label\")\n",
        "plt.xticks(size = 12)\n",
        "plt.yticks(size = 12, rotation = 0)\n",
        "plt.ylabel(\"True Label\")\n",
        "plt.title(\"Confusion Matrix LR\", size = 12)\n",
        "plt.show()"
      ],
      "execution_count": 68,
      "outputs": [
        {
          "output_type": "display_data",
          "data": {
            "image/png": "[encoded data removed]",
            "text/plain": [
              "<Figure size 360x360 with 1 Axes>"
            ]
          },
          "metadata": {
            "needs_background": "light"
          }
        }
      ]
    },
    {
      "cell_type": "code",
      "metadata": {
        "colab": {
          "base_uri": "https://localhost:8080/"
        },
        "id": "Ddl73cHlPy8O",
        "outputId": "c8630317-3eaf-4e79-d2c4-6e772975389b"
      },
      "source": [
        "#Train Accuracy\n",
        "classifierLR.score(X_train,y_train)"
      ],
      "execution_count": 38,
      "outputs": [
        {
          "output_type": "execute_result",
          "data": {
            "text/plain": [
              "0.9521885521885521"
            ]
          },
          "metadata": {},
          "execution_count": 38
        }
      ]
    },
    {
      "cell_type": "code",
      "metadata": {
        "colab": {
          "base_uri": "https://localhost:8080/"
        },
        "id": "2le70ZFeilzi",
        "outputId": "77fd9797-65e7-4e5a-9a3a-54b0ff71a34e"
      },
      "source": [
        "#Test Accuracy\n",
        "classifierLR=accuracy_score(y_test, y_predLR)\n",
        "classifierLR"
      ],
      "execution_count": 39,
      "outputs": [
        {
          "output_type": "execute_result",
          "data": {
            "text/plain": [
              "0.9131313131313131"
            ]
          },
          "metadata": {},
          "execution_count": 39
        }
      ]
    },
    {
      "cell_type": "markdown",
      "metadata": {
        "id": "owwcCdpb1ZeJ"
      },
      "source": [
        "#2) K Nearest neighbours"
      ]
    },
    {
      "cell_type": "code",
      "metadata": {
        "colab": {
          "base_uri": "https://localhost:8080/"
        },
        "id": "J5zjmjyp-3fn",
        "outputId": "3d3958c6-42a8-4f69-b825-062302b99e5b"
      },
      "source": [
        "from sklearn.neighbors import KNeighborsClassifier\n",
        "classifierKNN = KNeighborsClassifier(n_neighbors = 5, metric = 'minkowski', p = 2)\n",
        "classifierKNN.fit(X_train, y_train)"
      ],
      "execution_count": 40,
      "outputs": [
        {
          "output_type": "execute_result",
          "data": {
            "text/plain": [
              "KNeighborsClassifier(algorithm='auto', leaf_size=30, metric='minkowski',\n",
              "                     metric_params=None, n_jobs=None, n_neighbors=5, p=2,\n",
              "                     weights='uniform')"
            ]
          },
          "metadata": {},
          "execution_count": 40
        }
      ]
    },
    {
      "cell_type": "code",
      "metadata": {
        "id": "3MpryZuk-8Qn",
        "colab": {
          "base_uri": "https://localhost:8080/"
        },
        "outputId": "4b9a3681-69b7-461e-974b-a8b272e98fd1"
      },
      "source": [
        "y_predKNN = classifierKNN.predict(X_test)\n",
        "y_predKNN"
      ],
      "execution_count": 41,
      "outputs": [
        {
          "output_type": "execute_result",
          "data": {
            "text/plain": [
              "array([0, 0, 1, 2, 2, 2, 3, 3, 3, 1, 2, 1, 2, 2, 0, 2, 1, 0, 1, 2, 2, 1,\n",
              "       3, 0, 2, 0, 1, 1, 0, 2, 0, 3, 1, 0, 2, 3, 3, 2, 1, 2, 2, 3, 3, 1,\n",
              "       1, 2, 1, 2, 0, 3, 2, 0, 1, 1, 0, 1, 0, 2, 2, 3, 0, 1, 3, 0, 1, 3,\n",
              "       1, 2, 1, 1, 0, 0, 1, 3, 0, 0, 2, 1, 1, 2, 0, 1, 2, 0, 1, 3, 2, 0,\n",
              "       0, 0, 2, 2, 3, 1, 0, 2, 0, 1, 2, 1, 1, 1, 1, 0, 3, 2, 2, 2, 0, 0,\n",
              "       3, 0, 0, 3, 1, 3, 3, 1, 3, 2, 1, 2, 2, 3, 0, 1, 3, 1, 2, 1, 0, 0,\n",
              "       1, 1, 3, 3, 0, 3, 0, 2, 1, 0, 0, 0, 1, 2, 3, 2, 1, 0, 2, 1, 0, 0,\n",
              "       0, 0, 1, 2, 2, 2, 3, 3, 2, 3, 1, 2, 1, 1, 2, 1, 3, 1, 2, 0, 1, 3,\n",
              "       2, 0, 0, 3, 0, 0, 1, 1, 2, 3, 1, 2, 1, 1, 2, 1, 0, 0, 0, 2, 1, 2,\n",
              "       3, 3, 2, 0, 2, 2, 2, 1, 1, 2, 2, 0, 0, 1, 1, 3, 3, 1, 2, 0, 0, 1,\n",
              "       3, 0, 3, 3, 1, 2, 0, 3, 1, 0, 2, 0, 2, 1, 3, 0, 2, 2, 0, 1, 2, 2,\n",
              "       1, 3, 1, 0, 3, 1, 2, 0, 1, 1, 2, 3, 1, 1, 2, 2, 2, 1, 1, 1, 0, 3,\n",
              "       1, 3, 0, 0, 2, 1, 2, 0, 0, 1, 0, 1, 3, 2, 0, 3, 0, 3, 2, 1, 0, 2,\n",
              "       3, 0, 0, 1, 2, 2, 2, 3, 2, 0, 0, 1, 1, 2, 0, 3, 2, 3, 0, 2, 0, 2,\n",
              "       1, 2, 0, 2, 0, 2, 0, 1, 3, 0, 1, 0, 0, 1, 1, 3, 1, 0, 2, 0, 3, 1,\n",
              "       3, 3, 2, 1, 0, 1, 0, 1, 1, 0, 0, 0, 3, 0, 0, 1, 0, 2, 0, 0, 2, 1,\n",
              "       0, 0, 3, 3, 2, 0, 1, 0, 2, 3, 1, 2, 3, 2, 0, 0, 2, 0, 1, 0, 1, 0,\n",
              "       3, 0, 1, 3, 2, 3, 3, 1, 2, 2, 1, 2, 0, 0, 1, 1, 3, 1, 1, 1, 0, 2,\n",
              "       2, 1, 0, 2, 3, 2, 2, 3, 0, 1, 1, 0, 0, 2, 0, 0, 0, 0, 2, 0, 0, 0,\n",
              "       1, 1, 0, 1, 1, 2, 0, 2, 0, 2, 2, 0, 2, 1, 2, 3, 0, 0, 2, 2, 1, 3,\n",
              "       2, 2, 0, 0, 1, 1, 0, 3, 0, 1, 0, 1, 0, 0, 3, 0, 0, 1, 2, 2, 2, 3,\n",
              "       0, 3, 0, 3, 3, 2, 2, 2, 1, 0, 2, 3, 0, 3, 1, 1, 0, 2, 0, 1, 2, 1,\n",
              "       1, 3, 1, 1, 0, 1, 3, 0, 0, 1, 0])"
            ]
          },
          "metadata": {},
          "execution_count": 41
        }
      ]
    },
    {
      "cell_type": "code",
      "metadata": {
        "id": "dNL24PZb_ABw",
        "colab": {
          "base_uri": "https://localhost:8080/"
        },
        "outputId": "94611ee8-40cf-4c07-9c00-bfb0f344383d"
      },
      "source": [
        "# Making the Confusion Matrix\n",
        "cmKNN = confusion_matrix(y_test, y_predKNN)\n",
        "cmKNN"
      ],
      "execution_count": 42,
      "outputs": [
        {
          "output_type": "execute_result",
          "data": {
            "text/plain": [
              "array([[83, 39,  4,  0],\n",
              "       [53, 38, 22,  3],\n",
              "       [11, 41, 49, 18],\n",
              "       [ 1, 17, 52, 64]])"
            ]
          },
          "metadata": {},
          "execution_count": 42
        }
      ]
    },
    {
      "cell_type": "code",
      "metadata": {
        "colab": {
          "base_uri": "https://localhost:8080/",
          "height": 353
        },
        "id": "oShlXhOAQEPd",
        "outputId": "43f17b00-9d0e-4d49-8f8a-b5602cfba49c"
      },
      "source": [
        "#plotting confusion matrix\n",
        "cm = confusion_matrix(y_test, y_predKNN)\n",
        "\n",
        "df1 = pd.DataFrame(columns=[\"0\",\"1\",\"2\",\"3\"], index= [\"0\",\"1\",\"2\",\"3\"], data= cm )\n",
        "\n",
        "f,ax = plt.subplots(figsize=(5,5))\n",
        "\n",
        "sns.heatmap(df1, annot=True,cmap=\"OrRd\", fmt= '.0f',\n",
        "            ax=ax,linewidths = 5, cbar = False,annot_kws={\"size\": 16})\n",
        "plt.xlabel(\"Predicted Label\")\n",
        "plt.xticks(size = 12)\n",
        "plt.yticks(size = 12, rotation = 0)\n",
        "plt.ylabel(\"True Label\")\n",
        "plt.title(\"Confusion Matrix KNN\", size = 12)\n",
        "plt.show()"
      ],
      "execution_count": 69,
      "outputs": [
        {
          "output_type": "display_data",
          "data": {
            "image/png": "[encoded data removed]",
            "text/plain": [
              "<Figure size 360x360 with 1 Axes>"
            ]
          },
          "metadata": {
            "needs_background": "light"
          }
        }
      ]
    },
    {
      "cell_type": "code",
      "metadata": {
        "colab": {
          "base_uri": "https://localhost:8080/"
        },
        "id": "v6K6kdQFP3sN",
        "outputId": "f5112000-8fd0-4f3b-e238-39c44e63c124"
      },
      "source": [
        "#Train Accuracy\n",
        "classifierKNN.score(X_train,y_train)"
      ],
      "execution_count": 43,
      "outputs": [
        {
          "output_type": "execute_result",
          "data": {
            "text/plain": [
              "0.7097643097643098"
            ]
          },
          "metadata": {},
          "execution_count": 43
        }
      ]
    },
    {
      "cell_type": "code",
      "metadata": {
        "colab": {
          "base_uri": "https://localhost:8080/"
        },
        "id": "Brdf2ONtojmV",
        "outputId": "14a95f01-2602-49f4-f75e-cd0940d79f63"
      },
      "source": [
        "#Test Accuracy\n",
        "classifierKNN=accuracy_score(y_test, y_predKNN)\n",
        "classifierKNN"
      ],
      "execution_count": 44,
      "outputs": [
        {
          "output_type": "execute_result",
          "data": {
            "text/plain": [
              "0.4727272727272727"
            ]
          },
          "metadata": {},
          "execution_count": 44
        }
      ]
    },
    {
      "cell_type": "markdown",
      "metadata": {
        "id": "x-CDqPdG1gtc"
      },
      "source": [
        "#3) Support Vector Machine\n"
      ]
    },
    {
      "cell_type": "code",
      "metadata": {
        "colab": {
          "base_uri": "https://localhost:8080/"
        },
        "id": "LnqyJI00_EcB",
        "outputId": "93320e2b-e316-4c48-b05e-786e99b7c74c"
      },
      "source": [
        "from sklearn.svm import SVC\n",
        "classifierSVC = SVC(kernel = 'linear' , random_state = 0)\n",
        "classifierSVC.fit(X_train , y_train)"
      ],
      "execution_count": 45,
      "outputs": [
        {
          "output_type": "execute_result",
          "data": {
            "text/plain": [
              "SVC(C=1.0, break_ties=False, cache_size=200, class_weight=None, coef0=0.0,\n",
              "    decision_function_shape='ovr', degree=3, gamma='scale', kernel='linear',\n",
              "    max_iter=-1, probability=False, random_state=0, shrinking=True, tol=0.001,\n",
              "    verbose=False)"
            ]
          },
          "metadata": {},
          "execution_count": 45
        }
      ]
    },
    {
      "cell_type": "code",
      "metadata": {
        "colab": {
          "base_uri": "https://localhost:8080/"
        },
        "id": "ggnLVZ-YLcrj",
        "outputId": "e1ae1a57-f0d7-454a-b204-e00db1ed6754"
      },
      "source": [
        "y_predSVC = classifierSVC.predict(X_test)\n",
        "y_predSVC"
      ],
      "execution_count": 46,
      "outputs": [
        {
          "output_type": "execute_result",
          "data": {
            "text/plain": [
              "array([1, 0, 1, 3, 1, 3, 3, 3, 1, 1, 3, 3, 2, 3, 1, 2, 1, 0, 2, 3, 2, 3,\n",
              "       3, 0, 3, 0, 3, 1, 1, 3, 1, 3, 3, 0, 3, 3, 3, 3, 3, 2, 1, 3, 2, 1,\n",
              "       0, 3, 0, 1, 1, 3, 1, 0, 3, 2, 1, 1, 0, 2, 1, 3, 0, 1, 2, 0, 0, 3,\n",
              "       1, 2, 1, 2, 0, 1, 2, 3, 0, 0, 3, 2, 0, 3, 1, 0, 0, 0, 1, 2, 2, 1,\n",
              "       0, 0, 3, 3, 3, 2, 0, 1, 1, 3, 3, 1, 2, 2, 1, 0, 2, 1, 2, 3, 1, 0,\n",
              "       2, 0, 1, 3, 1, 3, 2, 0, 3, 3, 0, 2, 1, 3, 0, 0, 3, 2, 2, 1, 0, 0,\n",
              "       1, 1, 3, 2, 0, 1, 1, 2, 3, 1, 0, 0, 2, 2, 3, 3, 2, 0, 1, 0, 0, 1,\n",
              "       0, 0, 2, 2, 3, 1, 3, 3, 3, 3, 3, 1, 0, 0, 3, 1, 3, 3, 3, 0, 2, 1,\n",
              "       1, 0, 1, 3, 1, 1, 0, 0, 1, 3, 2, 3, 2, 3, 3, 2, 1, 1, 0, 1, 1, 3,\n",
              "       3, 2, 2, 1, 1, 2, 3, 1, 2, 3, 1, 3, 0, 1, 2, 1, 3, 0, 3, 0, 0, 2,\n",
              "       3, 0, 3, 3, 2, 3, 0, 3, 0, 0, 2, 1, 0, 1, 3, 0, 2, 2, 2, 0, 2, 2,\n",
              "       0, 3, 2, 0, 3, 1, 1, 0, 0, 0, 3, 2, 0, 2, 2, 2, 2, 2, 3, 2, 0, 3,\n",
              "       1, 3, 1, 2, 3, 1, 2, 0, 0, 1, 2, 0, 3, 3, 0, 2, 2, 3, 1, 3, 2, 1,\n",
              "       3, 0, 1, 1, 2, 2, 1, 2, 3, 1, 0, 2, 3, 2, 0, 2, 3, 3, 0, 2, 0, 3,\n",
              "       1, 3, 2, 2, 1, 2, 0, 2, 3, 0, 0, 0, 0, 0, 1, 3, 0, 1, 2, 0, 3, 2,\n",
              "       3, 3, 3, 3, 1, 3, 1, 1, 1, 2, 1, 0, 3, 0, 0, 1, 0, 2, 0, 1, 3, 1,\n",
              "       0, 1, 2, 3, 3, 2, 0, 1, 2, 2, 1, 3, 3, 1, 1, 0, 3, 0, 0, 0, 0, 0,\n",
              "       3, 1, 1, 3, 2, 3, 3, 2, 3, 3, 2, 2, 1, 1, 1, 1, 2, 1, 0, 0, 1, 2,\n",
              "       2, 2, 1, 3, 2, 2, 3, 2, 0, 2, 0, 0, 2, 2, 1, 1, 0, 0, 2, 0, 0, 0,\n",
              "       0, 1, 2, 0, 1, 3, 0, 2, 1, 2, 1, 0, 2, 0, 1, 2, 0, 2, 1, 2, 0, 3,\n",
              "       3, 2, 1, 2, 1, 0, 0, 3, 0, 0, 1, 3, 0, 0, 3, 1, 1, 1, 2, 3, 1, 3,\n",
              "       1, 2, 0, 2, 3, 3, 3, 3, 3, 0, 3, 2, 1, 3, 1, 1, 0, 2, 0, 1, 3, 2,\n",
              "       1, 3, 0, 2, 1, 2, 3, 0, 0, 3, 0])"
            ]
          },
          "metadata": {},
          "execution_count": 46
        }
      ]
    },
    {
      "cell_type": "code",
      "metadata": {
        "id": "nz4YmpJW_Iv9",
        "colab": {
          "base_uri": "https://localhost:8080/"
        },
        "outputId": "39818a32-d7ad-4a0c-8ece-6b5e8b857ceb"
      },
      "source": [
        "cmSVC = confusion_matrix(y_test , y_predSVC)\n",
        "cmSVC"
      ],
      "execution_count": 47,
      "outputs": [
        {
          "output_type": "execute_result",
          "data": {
            "text/plain": [
              "array([[118,   8,   0,   0],\n",
              "       [  7, 104,   5,   0],\n",
              "       [  0,  11, 100,   8],\n",
              "       [  0,   0,   9, 125]])"
            ]
          },
          "metadata": {},
          "execution_count": 47
        }
      ]
    },
    {
      "cell_type": "code",
      "metadata": {
        "colab": {
          "base_uri": "https://localhost:8080/",
          "height": 353
        },
        "id": "J85bN-xyPpjM",
        "outputId": "a4275f9b-7baf-4677-f021-2c1df5de219c"
      },
      "source": [
        "#plotting confusion matrix\n",
        "cm = confusion_matrix(y_test, y_predSVC)\n",
        "\n",
        "df1 = pd.DataFrame(columns=[\"0\",\"1\",\"2\",\"3\"], index= [\"0\",\"1\",\"2\",\"3\"], data= cm )\n",
        "\n",
        "f,ax = plt.subplots(figsize=(5,5))\n",
        "\n",
        "sns.heatmap(df1, annot=True,cmap=\"OrRd\", fmt= '.0f',\n",
        "            ax=ax,linewidths = 5, cbar = False,annot_kws={\"size\": 16})\n",
        "plt.xlabel(\"Predicted Label\")\n",
        "plt.xticks(size = 12)\n",
        "plt.yticks(size = 12, rotation = 0)\n",
        "plt.ylabel(\"True Label\")\n",
        "plt.title(\"Confusion Matrix SVC\", size = 12)\n",
        "plt.show()"
      ],
      "execution_count": 67,
      "outputs": [
        {
          "output_type": "display_data",
          "data": {
            "image/png": "[encoded data removed]",
            "text/plain": [
              "<Figure size 360x360 with 1 Axes>"
            ]
          },
          "metadata": {
            "needs_background": "light"
          }
        }
      ]
    },
    {
      "cell_type": "code",
      "metadata": {
        "colab": {
          "base_uri": "https://localhost:8080/"
        },
        "id": "9RfNJ3AfP-uM",
        "outputId": "e739f856-05e5-4e15-f1c6-f5033a80ba5d"
      },
      "source": [
        "#Train Accuracy\n",
        "classifierSVC.score(X_train,y_train)"
      ],
      "execution_count": 48,
      "outputs": [
        {
          "output_type": "execute_result",
          "data": {
            "text/plain": [
              "0.9521885521885521"
            ]
          },
          "metadata": {},
          "execution_count": 48
        }
      ]
    },
    {
      "cell_type": "code",
      "metadata": {
        "colab": {
          "base_uri": "https://localhost:8080/"
        },
        "id": "kSE7GyKWotEO",
        "outputId": "10181dbe-664e-4eca-a91b-4d5d0ca894f6"
      },
      "source": [
        "#Test Accuracy\n",
        "classifierSVC=accuracy_score(y_test, y_predSVC)\n",
        "classifierSVC"
      ],
      "execution_count": 49,
      "outputs": [
        {
          "output_type": "execute_result",
          "data": {
            "text/plain": [
              "0.9030303030303031"
            ]
          },
          "metadata": {},
          "execution_count": 49
        }
      ]
    },
    {
      "cell_type": "markdown",
      "metadata": {
        "id": "6SIKvaTJ1m15"
      },
      "source": [
        "#4) Decision Tree Model"
      ]
    },
    {
      "cell_type": "code",
      "metadata": {
        "colab": {
          "base_uri": "https://localhost:8080/"
        },
        "id": "q4tZ1m3y_MiC",
        "outputId": "b0005967-193b-496e-c7bc-2b983ff931be"
      },
      "source": [
        "from sklearn.tree import DecisionTreeClassifier\n",
        "classifierDT = DecisionTreeClassifier( criterion = \"entropy\",random_state=0)\n",
        "classifierDT.fit(X_train,y_train)"
      ],
      "execution_count": 50,
      "outputs": [
        {
          "output_type": "execute_result",
          "data": {
            "text/plain": [
              "DecisionTreeClassifier(ccp_alpha=0.0, class_weight=None, criterion='entropy',\n",
              "                       max_depth=None, max_features=None, max_leaf_nodes=None,\n",
              "                       min_impurity_decrease=0.0, min_impurity_split=None,\n",
              "                       min_samples_leaf=1, min_samples_split=2,\n",
              "                       min_weight_fraction_leaf=0.0, presort='deprecated',\n",
              "                       random_state=0, splitter='best')"
            ]
          },
          "metadata": {},
          "execution_count": 50
        }
      ]
    },
    {
      "cell_type": "code",
      "metadata": {
        "id": "O08kyxnS_Pc8",
        "colab": {
          "base_uri": "https://localhost:8080/"
        },
        "outputId": "b4d5cece-ef27-40c8-93a1-4ed57083eedf"
      },
      "source": [
        "y_predDT = classifierDT.predict(X_test)\n",
        "y_predDT"
      ],
      "execution_count": 51,
      "outputs": [
        {
          "output_type": "execute_result",
          "data": {
            "text/plain": [
              "array([1, 0, 1, 3, 1, 3, 3, 3, 1, 1, 3, 3, 2, 2, 0, 2, 2, 0, 1, 3, 2, 3,\n",
              "       3, 0, 3, 0, 3, 1, 1, 3, 1, 3, 3, 0, 3, 2, 3, 3, 3, 2, 1, 3, 2, 1,\n",
              "       0, 3, 0, 1, 0, 3, 1, 0, 3, 2, 1, 1, 0, 2, 1, 3, 0, 1, 2, 0, 0, 3,\n",
              "       1, 2, 1, 2, 0, 1, 3, 3, 0, 0, 3, 2, 0, 2, 1, 0, 0, 0, 1, 2, 1, 1,\n",
              "       0, 0, 3, 3, 3, 1, 0, 1, 1, 3, 2, 1, 2, 2, 1, 0, 2, 2, 1, 3, 1, 1,\n",
              "       2, 0, 1, 3, 1, 3, 3, 0, 3, 3, 0, 2, 2, 3, 0, 0, 3, 2, 2, 1, 0, 0,\n",
              "       1, 0, 3, 2, 0, 1, 1, 2, 3, 1, 0, 0, 2, 2, 3, 3, 2, 0, 1, 0, 0, 1,\n",
              "       0, 0, 3, 2, 3, 1, 3, 3, 3, 3, 2, 1, 0, 0, 3, 2, 3, 3, 3, 0, 2, 1,\n",
              "       1, 0, 1, 3, 1, 1, 1, 0, 1, 3, 2, 2, 1, 2, 2, 2, 0, 1, 0, 1, 0, 3,\n",
              "       3, 2, 2, 1, 1, 2, 3, 1, 2, 3, 1, 3, 1, 1, 2, 1, 3, 0, 3, 0, 0, 2,\n",
              "       3, 0, 3, 3, 2, 3, 0, 3, 0, 0, 2, 1, 0, 1, 3, 0, 2, 2, 2, 0, 2, 2,\n",
              "       0, 3, 2, 1, 3, 1, 1, 0, 0, 0, 3, 2, 0, 2, 1, 2, 2, 2, 3, 2, 1, 3,\n",
              "       1, 2, 0, 1, 3, 2, 2, 0, 0, 1, 2, 1, 3, 3, 0, 2, 2, 3, 1, 3, 2, 1,\n",
              "       3, 0, 1, 1, 2, 2, 1, 2, 3, 1, 0, 2, 3, 2, 0, 2, 3, 3, 0, 2, 0, 3,\n",
              "       1, 3, 2, 2, 1, 1, 0, 3, 3, 1, 0, 0, 0, 0, 1, 3, 1, 1, 2, 0, 3, 2,\n",
              "       3, 3, 3, 3, 1, 3, 1, 1, 0, 2, 1, 0, 2, 0, 0, 0, 0, 2, 0, 1, 3, 1,\n",
              "       0, 1, 2, 3, 3, 2, 0, 1, 2, 3, 1, 3, 3, 1, 1, 0, 3, 0, 0, 0, 0, 0,\n",
              "       3, 0, 1, 3, 2, 3, 3, 2, 3, 2, 2, 2, 1, 1, 1, 1, 2, 1, 0, 0, 0, 3,\n",
              "       2, 1, 1, 3, 2, 2, 3, 2, 0, 3, 0, 0, 3, 3, 1, 1, 0, 0, 3, 0, 0, 0,\n",
              "       0, 1, 2, 0, 2, 3, 0, 2, 1, 2, 1, 0, 2, 0, 1, 2, 0, 2, 1, 2, 0, 3,\n",
              "       3, 2, 1, 2, 1, 0, 0, 3, 0, 0, 1, 3, 0, 0, 3, 1, 0, 1, 3, 3, 2, 3,\n",
              "       1, 2, 0, 2, 3, 3, 3, 3, 2, 0, 2, 2, 1, 3, 1, 1, 1, 1, 0, 1, 2, 2,\n",
              "       1, 3, 0, 1, 1, 2, 3, 0, 0, 3, 0])"
            ]
          },
          "metadata": {},
          "execution_count": 51
        }
      ]
    },
    {
      "cell_type": "code",
      "metadata": {
        "id": "DA-Nbdc3_SW0",
        "colab": {
          "base_uri": "https://localhost:8080/"
        },
        "outputId": "765a6d85-35ce-46f5-ca6a-72c7b7bd095f"
      },
      "source": [
        "cmDT = confusion_matrix(y_test , y_predDT)\n",
        "cmDT"
      ],
      "execution_count": 52,
      "outputs": [
        {
          "output_type": "execute_result",
          "data": {
            "text/plain": [
              "array([[115,  11,   0,   0],\n",
              "       [ 12,  99,   5,   0],\n",
              "       [  0,  15,  92,  12],\n",
              "       [  0,   0,  16, 118]])"
            ]
          },
          "metadata": {},
          "execution_count": 52
        }
      ]
    },
    {
      "cell_type": "code",
      "metadata": {
        "colab": {
          "base_uri": "https://localhost:8080/",
          "height": 353
        },
        "id": "yYKdRF9_QOQe",
        "outputId": "bdcfebd6-65ab-4abb-9925-d9c38018e06c"
      },
      "source": [
        "#plotting confusion matrix\n",
        "cm = confusion_matrix(y_test, y_predDT)\n",
        "\n",
        "df1 = pd.DataFrame(columns=[\"0\",\"1\",\"2\",\"3\"], index= [\"0\",\"1\",\"2\",\"3\"], data= cm )\n",
        "\n",
        "f,ax = plt.subplots(figsize=(5,5))\n",
        "\n",
        "sns.heatmap(df1, annot=True,cmap=\"OrRd\", fmt= '.0f',\n",
        "            ax=ax,linewidths = 5, cbar = False,annot_kws={\"size\": 16})\n",
        "plt.xlabel(\"Predicted Label\")\n",
        "plt.xticks(size = 12)\n",
        "plt.yticks(size = 12, rotation = 0)\n",
        "plt.ylabel(\"True Label\")\n",
        "plt.title(\"Confusion Matrix DT\", size = 12)\n",
        "plt.show()"
      ],
      "execution_count": 70,
      "outputs": [
        {
          "output_type": "display_data",
          "data": {
            "image/png": "[encoded data removed]",
            "text/plain": [
              "<Figure size 360x360 with 1 Axes>"
            ]
          },
          "metadata": {
            "needs_background": "light"
          }
        }
      ]
    },
    {
      "cell_type": "code",
      "metadata": {
        "colab": {
          "base_uri": "https://localhost:8080/"
        },
        "id": "Lk2KPDxVLqC1",
        "outputId": "97465ad3-6bef-4791-8231-f251025c728d"
      },
      "source": [
        "#Train Accuracy\n",
        "classifierDT.score(X_train,y_train)"
      ],
      "execution_count": 53,
      "outputs": [
        {
          "output_type": "execute_result",
          "data": {
            "text/plain": [
              "1.0"
            ]
          },
          "metadata": {},
          "execution_count": 53
        }
      ]
    },
    {
      "cell_type": "code",
      "metadata": {
        "id": "xhi2gFwj9abb",
        "colab": {
          "base_uri": "https://localhost:8080/"
        },
        "outputId": "c1439020-5871-4ae4-ee1d-f4e10e694db1"
      },
      "source": [
        "#Test Accuracy\n",
        "classifierDT=accuracy_score(y_test, y_predDT)\n",
        "classifierDT"
      ],
      "execution_count": 54,
      "outputs": [
        {
          "output_type": "execute_result",
          "data": {
            "text/plain": [
              "0.8565656565656565"
            ]
          },
          "metadata": {},
          "execution_count": 54
        }
      ]
    },
    {
      "cell_type": "code",
      "metadata": {
        "colab": {
          "base_uri": "https://localhost:8080/",
          "height": 279
        },
        "id": "Ti1MXZupp5bq",
        "outputId": "941a2ff0-a1bc-4731-f5a9-6b58334e7b58"
      },
      "source": [
        "#plotting bar graph of all model's accuracy.\n",
        "\n",
        "plt.bar(x=['LR','KNN','SVM','DT'],height=[classifierLR,classifierKNN,classifierSVC,classifierDT])\n",
        "plt.xlabel(\"Algorithms\")\n",
        "plt.ylabel(\"Accuracy Score\")\n",
        "plt.show()"
      ],
      "execution_count": 55,
      "outputs": [
        {
          "output_type": "display_data",
          "data": {
            "image/png": "[encoded data removed]",
            "text/plain": [
              "<Figure size 432x288 with 1 Axes>"
            ]
          },
          "metadata": {
            "needs_background": "light"
          }
        }
      ]
    },
    {
      "cell_type": "markdown",
      "metadata": {
        "id": "PeUTYPcat6Hv"
      },
      "source": [
        "Logistic regression does not really have any critical hyperparameters to tune. So there will be no significance difference on accuracy after hyperparameters tuning."
      ]
    },
    {
      "cell_type": "code",
      "metadata": {
        "id": "vZ6Tg3VXsGeM"
      },
      "source": [
        "#Grid search for LR\n",
        "\n",
        "from sklearn.model_selection import GridSearchCV\n",
        "model = LogisticRegression()\n",
        "solvers = ['newton-cg', 'lbfgs', 'liblinear']\n",
        "penalty = ['l1', 'l2']\n",
        "c_values = [100, 10, 1.0, 0.1, 0.01]\n",
        "\n",
        "# fitting the model for grid search\n",
        "\n",
        "grid = dict(solver=solvers,penalty=penalty,C=c_values)\n",
        "grid_search = GridSearchCV(estimator=model, param_grid=grid, n_jobs=-1, scoring='accuracy',error_score=0)\n",
        "grid_result = grid_search.fit(X_train, y_train)\n"
      ],
      "execution_count": 56,
      "outputs": []
    },
    {
      "cell_type": "code",
      "metadata": {
        "colab": {
          "base_uri": "https://localhost:8080/"
        },
        "id": "qHIvKqXONPZ5",
        "outputId": "114ba33b-2265-43ed-d7b7-7e876cc2a0a2"
      },
      "source": [
        "grid_search.best_params_"
      ],
      "execution_count": 57,
      "outputs": [
        {
          "output_type": "execute_result",
          "data": {
            "text/plain": [
              "{'C': 10, 'penalty': 'l2', 'solver': 'newton-cg'}"
            ]
          },
          "metadata": {},
          "execution_count": 57
        }
      ]
    },
    {
      "cell_type": "code",
      "metadata": {
        "colab": {
          "base_uri": "https://localhost:8080/"
        },
        "id": "mgSIC1Hu__an",
        "outputId": "6416ee75-d34d-4465-fec7-0cc38023ab57"
      },
      "source": [
        "grid_search.best_score_"
      ],
      "execution_count": 58,
      "outputs": [
        {
          "output_type": "execute_result",
          "data": {
            "text/plain": [
              "0.9373737373737374"
            ]
          },
          "metadata": {},
          "execution_count": 58
        }
      ]
    },
    {
      "cell_type": "code",
      "metadata": {
        "colab": {
          "base_uri": "https://localhost:8080/"
        },
        "id": "yjLOP7k3__Wr",
        "outputId": "244974ab-75c4-4b37-d62f-f3e650ea3fa2"
      },
      "source": [
        "grid_search.best_estimator_.score(X_test,y_test)"
      ],
      "execution_count": 59,
      "outputs": [
        {
          "output_type": "execute_result",
          "data": {
            "text/plain": [
              "0.901010101010101"
            ]
          },
          "metadata": {},
          "execution_count": 59
        }
      ]
    },
    {
      "cell_type": "code",
      "metadata": {
        "id": "MylKdoNk__TP",
        "colab": {
          "base_uri": "https://localhost:8080/"
        },
        "outputId": "85d5676c-ff20-4a3d-e277-58c99a3bf0fe"
      },
      "source": [
        "y_pred_acc = grid_search.predict(X_test)\n",
        "acc=accuracy_score(y_test,y_pred_acc)\n",
        "acc"
      ],
      "execution_count": 60,
      "outputs": [
        {
          "output_type": "execute_result",
          "data": {
            "text/plain": [
              "0.901010101010101"
            ]
          },
          "metadata": {},
          "execution_count": 60
        }
      ]
    },
    {
      "cell_type": "code",
      "metadata": {
        "colab": {
          "base_uri": "https://localhost:8080/"
        },
        "id": "CL_Lw-dF44tz",
        "outputId": "de899839-e560-464d-f7e6-349268c7a52d"
      },
      "source": [
        "#Grid search for SVC\n",
        "\n",
        "# defining parameter range\n",
        "param_grid = {'C': [0.1, 1, 10, 100, 1000],\n",
        "              'gamma': [1, 0.1, 0.01, 0.001, 0.0001],\n",
        "              'kernel': ['rbf']}\n",
        " \n",
        "grid = GridSearchCV(SVC(), param_grid, refit = True, verbose = 3)\n",
        " \n",
        "# fitting the model for grid search\n",
        "\n",
        "grid.fit(X_train, y_train)"
      ],
      "execution_count": 61,
      "outputs": [
        {
          "output_type": "stream",
          "name": "stdout",
          "text": [
            "Fitting 5 folds for each of 25 candidates, totalling 125 fits\n",
            "[CV] C=0.1, gamma=1, kernel=rbf ......................................\n",
            "[CV] .......... C=0.1, gamma=1, kernel=rbf, score=0.259, total=   0.2s\n",
            "[CV] C=0.1, gamma=1, kernel=rbf ......................................\n"
          ]
        },
        {
          "output_type": "stream",
          "name": "stderr",
          "text": [
            "[Parallel(n_jobs=1)]: Using backend SequentialBackend with 1 concurrent workers.\n",
            "[Parallel(n_jobs=1)]: Done   1 out of   1 | elapsed:    0.2s remaining:    0.0s\n"
          ]
        },
        {
          "output_type": "stream",
          "name": "stdout",
          "text": [
            "[CV] .......... C=0.1, gamma=1, kernel=rbf, score=0.256, total=   0.2s\n",
            "[CV] C=0.1, gamma=1, kernel=rbf ......................................\n",
            "[CV] .......... C=0.1, gamma=1, kernel=rbf, score=0.256, total=   0.2s\n",
            "[CV] C=0.1, gamma=1, kernel=rbf ......................................\n"
          ]
        },
        {
          "output_type": "stream",
          "name": "stderr",
          "text": [
            "[Parallel(n_jobs=1)]: Done   2 out of   2 | elapsed:    0.3s remaining:    0.0s\n"
          ]
        },
        {
          "output_type": "stream",
          "name": "stdout",
          "text": [
            "[CV] .......... C=0.1, gamma=1, kernel=rbf, score=0.256, total=   0.2s\n",
            "[CV] C=0.1, gamma=1, kernel=rbf ......................................\n",
            "[CV] .......... C=0.1, gamma=1, kernel=rbf, score=0.253, total=   0.2s\n",
            "[CV] C=0.1, gamma=0.1, kernel=rbf ....................................\n",
            "[CV] ........ C=0.1, gamma=0.1, kernel=rbf, score=0.387, total=   0.2s\n",
            "[CV] C=0.1, gamma=0.1, kernel=rbf ....................................\n",
            "[CV] ........ C=0.1, gamma=0.1, kernel=rbf, score=0.340, total=   0.1s\n",
            "[CV] C=0.1, gamma=0.1, kernel=rbf ....................................\n",
            "[CV] ........ C=0.1, gamma=0.1, kernel=rbf, score=0.387, total=   0.1s\n",
            "[CV] C=0.1, gamma=0.1, kernel=rbf ....................................\n",
            "[CV] ........ C=0.1, gamma=0.1, kernel=rbf, score=0.350, total=   0.1s\n",
            "[CV] C=0.1, gamma=0.1, kernel=rbf ....................................\n",
            "[CV] ........ C=0.1, gamma=0.1, kernel=rbf, score=0.357, total=   0.1s\n",
            "[CV] C=0.1, gamma=0.01, kernel=rbf ...................................\n",
            "[CV] ....... C=0.1, gamma=0.01, kernel=rbf, score=0.431, total=   0.1s\n",
            "[CV] C=0.1, gamma=0.01, kernel=rbf ...................................\n",
            "[CV] ....... C=0.1, gamma=0.01, kernel=rbf, score=0.401, total=   0.1s\n",
            "[CV] C=0.1, gamma=0.01, kernel=rbf ...................................\n",
            "[CV] ....... C=0.1, gamma=0.01, kernel=rbf, score=0.438, total=   0.1s\n",
            "[CV] C=0.1, gamma=0.01, kernel=rbf ...................................\n",
            "[CV] ....... C=0.1, gamma=0.01, kernel=rbf, score=0.418, total=   0.1s\n",
            "[CV] C=0.1, gamma=0.01, kernel=rbf ...................................\n",
            "[CV] ....... C=0.1, gamma=0.01, kernel=rbf, score=0.414, total=   0.1s\n",
            "[CV] C=0.1, gamma=0.001, kernel=rbf ..................................\n",
            "[CV] ...... C=0.1, gamma=0.001, kernel=rbf, score=0.391, total=   0.1s\n",
            "[CV] C=0.1, gamma=0.001, kernel=rbf ..................................\n",
            "[CV] ...... C=0.1, gamma=0.001, kernel=rbf, score=0.364, total=   0.2s\n",
            "[CV] C=0.1, gamma=0.001, kernel=rbf ..................................\n",
            "[CV] ...... C=0.1, gamma=0.001, kernel=rbf, score=0.387, total=   0.1s\n",
            "[CV] C=0.1, gamma=0.001, kernel=rbf ..................................\n",
            "[CV] ...... C=0.1, gamma=0.001, kernel=rbf, score=0.360, total=   0.2s\n",
            "[CV] C=0.1, gamma=0.001, kernel=rbf ..................................\n",
            "[CV] ...... C=0.1, gamma=0.001, kernel=rbf, score=0.364, total=   0.1s\n",
            "[CV] C=0.1, gamma=0.0001, kernel=rbf .................................\n",
            "[CV] ..... C=0.1, gamma=0.0001, kernel=rbf, score=0.391, total=   0.1s\n",
            "[CV] C=0.1, gamma=0.0001, kernel=rbf .................................\n",
            "[CV] ..... C=0.1, gamma=0.0001, kernel=rbf, score=0.364, total=   0.1s\n",
            "[CV] C=0.1, gamma=0.0001, kernel=rbf .................................\n",
            "[CV] ..... C=0.1, gamma=0.0001, kernel=rbf, score=0.387, total=   0.1s\n",
            "[CV] C=0.1, gamma=0.0001, kernel=rbf .................................\n",
            "[CV] ..... C=0.1, gamma=0.0001, kernel=rbf, score=0.360, total=   0.1s\n",
            "[CV] C=0.1, gamma=0.0001, kernel=rbf .................................\n",
            "[CV] ..... C=0.1, gamma=0.0001, kernel=rbf, score=0.364, total=   0.2s\n",
            "[CV] C=1, gamma=1, kernel=rbf ........................................\n",
            "[CV] ............ C=1, gamma=1, kernel=rbf, score=0.286, total=   0.2s\n",
            "[CV] C=1, gamma=1, kernel=rbf ........................................\n",
            "[CV] ............ C=1, gamma=1, kernel=rbf, score=0.263, total=   0.2s\n",
            "[CV] C=1, gamma=1, kernel=rbf ........................................\n",
            "[CV] ............ C=1, gamma=1, kernel=rbf, score=0.279, total=   0.2s\n",
            "[CV] C=1, gamma=1, kernel=rbf ........................................\n",
            "[CV] ............ C=1, gamma=1, kernel=rbf, score=0.286, total=   0.2s\n",
            "[CV] C=1, gamma=1, kernel=rbf ........................................\n",
            "[CV] ............ C=1, gamma=1, kernel=rbf, score=0.259, total=   0.2s\n",
            "[CV] C=1, gamma=0.1, kernel=rbf ......................................\n",
            "[CV] .......... C=1, gamma=0.1, kernel=rbf, score=0.795, total=   0.1s\n",
            "[CV] C=1, gamma=0.1, kernel=rbf ......................................\n",
            "[CV] .......... C=1, gamma=0.1, kernel=rbf, score=0.785, total=   0.2s\n",
            "[CV] C=1, gamma=0.1, kernel=rbf ......................................\n",
            "[CV] .......... C=1, gamma=0.1, kernel=rbf, score=0.818, total=   0.2s\n",
            "[CV] C=1, gamma=0.1, kernel=rbf ......................................\n",
            "[CV] .......... C=1, gamma=0.1, kernel=rbf, score=0.798, total=   0.1s\n",
            "[CV] C=1, gamma=0.1, kernel=rbf ......................................\n",
            "[CV] .......... C=1, gamma=0.1, kernel=rbf, score=0.808, total=   0.1s\n",
            "[CV] C=1, gamma=0.01, kernel=rbf .....................................\n",
            "[CV] ......... C=1, gamma=0.01, kernel=rbf, score=0.882, total=   0.1s\n",
            "[CV] C=1, gamma=0.01, kernel=rbf .....................................\n",
            "[CV] ......... C=1, gamma=0.01, kernel=rbf, score=0.916, total=   0.1s\n",
            "[CV] C=1, gamma=0.01, kernel=rbf .....................................\n",
            "[CV] ......... C=1, gamma=0.01, kernel=rbf, score=0.899, total=   0.1s\n",
            "[CV] C=1, gamma=0.01, kernel=rbf .....................................\n",
            "[CV] ......... C=1, gamma=0.01, kernel=rbf, score=0.886, total=   0.1s\n",
            "[CV] C=1, gamma=0.01, kernel=rbf .....................................\n",
            "[CV] ......... C=1, gamma=0.01, kernel=rbf, score=0.896, total=   0.1s\n",
            "[CV] C=1, gamma=0.001, kernel=rbf ....................................\n",
            "[CV] ........ C=1, gamma=0.001, kernel=rbf, score=0.542, total=   0.1s\n",
            "[CV] C=1, gamma=0.001, kernel=rbf ....................................\n",
            "[CV] ........ C=1, gamma=0.001, kernel=rbf, score=0.539, total=   0.1s\n",
            "[CV] C=1, gamma=0.001, kernel=rbf ....................................\n",
            "[CV] ........ C=1, gamma=0.001, kernel=rbf, score=0.572, total=   0.1s\n",
            "[CV] C=1, gamma=0.001, kernel=rbf ....................................\n",
            "[CV] ........ C=1, gamma=0.001, kernel=rbf, score=0.569, total=   0.1s\n",
            "[CV] C=1, gamma=0.001, kernel=rbf ....................................\n",
            "[CV] ........ C=1, gamma=0.001, kernel=rbf, score=0.576, total=   0.1s\n",
            "[CV] C=1, gamma=0.0001, kernel=rbf ...................................\n",
            "[CV] ....... C=1, gamma=0.0001, kernel=rbf, score=0.391, total=   0.1s\n",
            "[CV] C=1, gamma=0.0001, kernel=rbf ...................................\n",
            "[CV] ....... C=1, gamma=0.0001, kernel=rbf, score=0.364, total=   0.1s\n",
            "[CV] C=1, gamma=0.0001, kernel=rbf ...................................\n",
            "[CV] ....... C=1, gamma=0.0001, kernel=rbf, score=0.387, total=   0.1s\n",
            "[CV] C=1, gamma=0.0001, kernel=rbf ...................................\n",
            "[CV] ....... C=1, gamma=0.0001, kernel=rbf, score=0.360, total=   0.2s\n",
            "[CV] C=1, gamma=0.0001, kernel=rbf ...................................\n",
            "[CV] ....... C=1, gamma=0.0001, kernel=rbf, score=0.364, total=   0.1s\n",
            "[CV] C=10, gamma=1, kernel=rbf .......................................\n",
            "[CV] ........... C=10, gamma=1, kernel=rbf, score=0.293, total=   0.2s\n",
            "[CV] C=10, gamma=1, kernel=rbf .......................................\n",
            "[CV] ........... C=10, gamma=1, kernel=rbf, score=0.279, total=   0.2s\n",
            "[CV] C=10, gamma=1, kernel=rbf .......................................\n",
            "[CV] ........... C=10, gamma=1, kernel=rbf, score=0.300, total=   0.2s\n",
            "[CV] C=10, gamma=1, kernel=rbf .......................................\n",
            "[CV] ........... C=10, gamma=1, kernel=rbf, score=0.290, total=   0.2s\n",
            "[CV] C=10, gamma=1, kernel=rbf .......................................\n",
            "[CV] ........... C=10, gamma=1, kernel=rbf, score=0.263, total=   0.2s\n",
            "[CV] C=10, gamma=0.1, kernel=rbf .....................................\n",
            "[CV] ......... C=10, gamma=0.1, kernel=rbf, score=0.815, total=   0.2s\n",
            "[CV] C=10, gamma=0.1, kernel=rbf .....................................\n",
            "[CV] ......... C=10, gamma=0.1, kernel=rbf, score=0.815, total=   0.2s\n",
            "[CV] C=10, gamma=0.1, kernel=rbf .....................................\n",
            "[CV] ......... C=10, gamma=0.1, kernel=rbf, score=0.838, total=   0.2s\n",
            "[CV] C=10, gamma=0.1, kernel=rbf .....................................\n",
            "[CV] ......... C=10, gamma=0.1, kernel=rbf, score=0.788, total=   0.2s\n",
            "[CV] C=10, gamma=0.1, kernel=rbf .....................................\n",
            "[CV] ......... C=10, gamma=0.1, kernel=rbf, score=0.818, total=   0.2s\n",
            "[CV] C=10, gamma=0.01, kernel=rbf ....................................\n",
            "[CV] ........ C=10, gamma=0.01, kernel=rbf, score=0.875, total=   0.1s\n",
            "[CV] C=10, gamma=0.01, kernel=rbf ....................................\n",
            "[CV] ........ C=10, gamma=0.01, kernel=rbf, score=0.902, total=   0.1s\n",
            "[CV] C=10, gamma=0.01, kernel=rbf ....................................\n",
            "[CV] ........ C=10, gamma=0.01, kernel=rbf, score=0.906, total=   0.1s\n",
            "[CV] C=10, gamma=0.01, kernel=rbf ....................................\n",
            "[CV] ........ C=10, gamma=0.01, kernel=rbf, score=0.902, total=   0.1s\n",
            "[CV] C=10, gamma=0.01, kernel=rbf ....................................\n",
            "[CV] ........ C=10, gamma=0.01, kernel=rbf, score=0.919, total=   0.1s\n",
            "[CV] C=10, gamma=0.001, kernel=rbf ...................................\n",
            "[CV] ....... C=10, gamma=0.001, kernel=rbf, score=0.899, total=   0.1s\n",
            "[CV] C=10, gamma=0.001, kernel=rbf ...................................\n",
            "[CV] ....... C=10, gamma=0.001, kernel=rbf, score=0.912, total=   0.1s\n",
            "[CV] C=10, gamma=0.001, kernel=rbf ...................................\n",
            "[CV] ....... C=10, gamma=0.001, kernel=rbf, score=0.919, total=   0.1s\n",
            "[CV] C=10, gamma=0.001, kernel=rbf ...................................\n",
            "[CV] ....... C=10, gamma=0.001, kernel=rbf, score=0.899, total=   0.1s\n",
            "[CV] C=10, gamma=0.001, kernel=rbf ...................................\n",
            "[CV] ....... C=10, gamma=0.001, kernel=rbf, score=0.912, total=   0.1s\n",
            "[CV] C=10, gamma=0.0001, kernel=rbf ..................................\n",
            "[CV] ...... C=10, gamma=0.0001, kernel=rbf, score=0.569, total=   0.1s\n",
            "[CV] C=10, gamma=0.0001, kernel=rbf ..................................\n",
            "[CV] ...... C=10, gamma=0.0001, kernel=rbf, score=0.572, total=   0.1s\n",
            "[CV] C=10, gamma=0.0001, kernel=rbf ..................................\n",
            "[CV] ...... C=10, gamma=0.0001, kernel=rbf, score=0.586, total=   0.1s\n",
            "[CV] C=10, gamma=0.0001, kernel=rbf ..................................\n",
            "[CV] ...... C=10, gamma=0.0001, kernel=rbf, score=0.582, total=   0.1s\n",
            "[CV] C=10, gamma=0.0001, kernel=rbf ..................................\n",
            "[CV] ...... C=10, gamma=0.0001, kernel=rbf, score=0.589, total=   0.1s\n",
            "[CV] C=100, gamma=1, kernel=rbf ......................................\n",
            "[CV] .......... C=100, gamma=1, kernel=rbf, score=0.293, total=   0.2s\n",
            "[CV] C=100, gamma=1, kernel=rbf ......................................\n",
            "[CV] .......... C=100, gamma=1, kernel=rbf, score=0.279, total=   0.2s\n",
            "[CV] C=100, gamma=1, kernel=rbf ......................................\n",
            "[CV] .......... C=100, gamma=1, kernel=rbf, score=0.300, total=   0.2s\n",
            "[CV] C=100, gamma=1, kernel=rbf ......................................\n",
            "[CV] .......... C=100, gamma=1, kernel=rbf, score=0.290, total=   0.2s\n",
            "[CV] C=100, gamma=1, kernel=rbf ......................................\n",
            "[CV] .......... C=100, gamma=1, kernel=rbf, score=0.263, total=   0.2s\n",
            "[CV] C=100, gamma=0.1, kernel=rbf ....................................\n",
            "[CV] ........ C=100, gamma=0.1, kernel=rbf, score=0.815, total=   0.2s\n",
            "[CV] C=100, gamma=0.1, kernel=rbf ....................................\n",
            "[CV] ........ C=100, gamma=0.1, kernel=rbf, score=0.815, total=   0.2s\n",
            "[CV] C=100, gamma=0.1, kernel=rbf ....................................\n",
            "[CV] ........ C=100, gamma=0.1, kernel=rbf, score=0.838, total=   0.2s\n",
            "[CV] C=100, gamma=0.1, kernel=rbf ....................................\n",
            "[CV] ........ C=100, gamma=0.1, kernel=rbf, score=0.788, total=   0.2s\n",
            "[CV] C=100, gamma=0.1, kernel=rbf ....................................\n",
            "[CV] ........ C=100, gamma=0.1, kernel=rbf, score=0.818, total=   0.2s\n",
            "[CV] C=100, gamma=0.01, kernel=rbf ...................................\n",
            "[CV] ....... C=100, gamma=0.01, kernel=rbf, score=0.889, total=   0.1s\n",
            "[CV] C=100, gamma=0.01, kernel=rbf ...................................\n",
            "[CV] ....... C=100, gamma=0.01, kernel=rbf, score=0.899, total=   0.1s\n",
            "[CV] C=100, gamma=0.01, kernel=rbf ...................................\n",
            "[CV] ....... C=100, gamma=0.01, kernel=rbf, score=0.912, total=   0.1s\n",
            "[CV] C=100, gamma=0.01, kernel=rbf ...................................\n",
            "[CV] ....... C=100, gamma=0.01, kernel=rbf, score=0.886, total=   0.1s\n",
            "[CV] C=100, gamma=0.01, kernel=rbf ...................................\n",
            "[CV] ....... C=100, gamma=0.01, kernel=rbf, score=0.886, total=   0.1s\n",
            "[CV] C=100, gamma=0.001, kernel=rbf ..................................\n",
            "[CV] ...... C=100, gamma=0.001, kernel=rbf, score=0.912, total=   0.1s\n",
            "[CV] C=100, gamma=0.001, kernel=rbf ..................................\n",
            "[CV] ...... C=100, gamma=0.001, kernel=rbf, score=0.923, total=   0.1s\n",
            "[CV] C=100, gamma=0.001, kernel=rbf ..................................\n",
            "[CV] ...... C=100, gamma=0.001, kernel=rbf, score=0.943, total=   0.1s\n",
            "[CV] C=100, gamma=0.001, kernel=rbf ..................................\n",
            "[CV] ...... C=100, gamma=0.001, kernel=rbf, score=0.902, total=   0.1s\n",
            "[CV] C=100, gamma=0.001, kernel=rbf ..................................\n",
            "[CV] ...... C=100, gamma=0.001, kernel=rbf, score=0.926, total=   0.1s\n",
            "[CV] C=100, gamma=0.0001, kernel=rbf .................................\n",
            "[CV] ..... C=100, gamma=0.0001, kernel=rbf, score=0.899, total=   0.1s\n",
            "[CV] C=100, gamma=0.0001, kernel=rbf .................................\n",
            "[CV] ..... C=100, gamma=0.0001, kernel=rbf, score=0.919, total=   0.1s\n",
            "[CV] C=100, gamma=0.0001, kernel=rbf .................................\n",
            "[CV] ..... C=100, gamma=0.0001, kernel=rbf, score=0.923, total=   0.1s\n",
            "[CV] C=100, gamma=0.0001, kernel=rbf .................................\n",
            "[CV] ..... C=100, gamma=0.0001, kernel=rbf, score=0.899, total=   0.1s\n",
            "[CV] C=100, gamma=0.0001, kernel=rbf .................................\n",
            "[CV] ..... C=100, gamma=0.0001, kernel=rbf, score=0.906, total=   0.1s\n",
            "[CV] C=1000, gamma=1, kernel=rbf .....................................\n",
            "[CV] ......... C=1000, gamma=1, kernel=rbf, score=0.293, total=   0.2s\n",
            "[CV] C=1000, gamma=1, kernel=rbf .....................................\n",
            "[CV] ......... C=1000, gamma=1, kernel=rbf, score=0.279, total=   0.2s\n",
            "[CV] C=1000, gamma=1, kernel=rbf .....................................\n",
            "[CV] ......... C=1000, gamma=1, kernel=rbf, score=0.300, total=   0.2s\n",
            "[CV] C=1000, gamma=1, kernel=rbf .....................................\n",
            "[CV] ......... C=1000, gamma=1, kernel=rbf, score=0.290, total=   0.2s\n",
            "[CV] C=1000, gamma=1, kernel=rbf .....................................\n",
            "[CV] ......... C=1000, gamma=1, kernel=rbf, score=0.263, total=   0.2s\n",
            "[CV] C=1000, gamma=0.1, kernel=rbf ...................................\n",
            "[CV] ....... C=1000, gamma=0.1, kernel=rbf, score=0.815, total=   0.2s\n",
            "[CV] C=1000, gamma=0.1, kernel=rbf ...................................\n",
            "[CV] ....... C=1000, gamma=0.1, kernel=rbf, score=0.815, total=   0.2s\n",
            "[CV] C=1000, gamma=0.1, kernel=rbf ...................................\n",
            "[CV] ....... C=1000, gamma=0.1, kernel=rbf, score=0.838, total=   0.2s\n",
            "[CV] C=1000, gamma=0.1, kernel=rbf ...................................\n",
            "[CV] ....... C=1000, gamma=0.1, kernel=rbf, score=0.788, total=   0.2s\n",
            "[CV] C=1000, gamma=0.1, kernel=rbf ...................................\n",
            "[CV] ....... C=1000, gamma=0.1, kernel=rbf, score=0.818, total=   0.2s\n",
            "[CV] C=1000, gamma=0.01, kernel=rbf ..................................\n",
            "[CV] ...... C=1000, gamma=0.01, kernel=rbf, score=0.875, total=   0.1s\n",
            "[CV] C=1000, gamma=0.01, kernel=rbf ..................................\n",
            "[CV] ...... C=1000, gamma=0.01, kernel=rbf, score=0.886, total=   0.1s\n",
            "[CV] C=1000, gamma=0.01, kernel=rbf ..................................\n",
            "[CV] ...... C=1000, gamma=0.01, kernel=rbf, score=0.909, total=   0.1s\n",
            "[CV] C=1000, gamma=0.01, kernel=rbf ..................................\n",
            "[CV] ...... C=1000, gamma=0.01, kernel=rbf, score=0.872, total=   0.1s\n",
            "[CV] C=1000, gamma=0.01, kernel=rbf ..................................\n",
            "[CV] ...... C=1000, gamma=0.01, kernel=rbf, score=0.889, total=   0.1s\n",
            "[CV] C=1000, gamma=0.001, kernel=rbf .................................\n",
            "[CV] ..... C=1000, gamma=0.001, kernel=rbf, score=0.892, total=   0.1s\n",
            "[CV] C=1000, gamma=0.001, kernel=rbf .................................\n",
            "[CV] ..... C=1000, gamma=0.001, kernel=rbf, score=0.943, total=   0.1s\n",
            "[CV] C=1000, gamma=0.001, kernel=rbf .................................\n",
            "[CV] ..... C=1000, gamma=0.001, kernel=rbf, score=0.936, total=   0.1s\n",
            "[CV] C=1000, gamma=0.001, kernel=rbf .................................\n",
            "[CV] ..... C=1000, gamma=0.001, kernel=rbf, score=0.939, total=   0.1s\n",
            "[CV] C=1000, gamma=0.001, kernel=rbf .................................\n",
            "[CV] ..... C=1000, gamma=0.001, kernel=rbf, score=0.943, total=   0.1s\n",
            "[CV] C=1000, gamma=0.0001, kernel=rbf ................................\n",
            "[CV] .... C=1000, gamma=0.0001, kernel=rbf, score=0.909, total=   0.1s\n",
            "[CV] C=1000, gamma=0.0001, kernel=rbf ................................\n",
            "[CV] .... C=1000, gamma=0.0001, kernel=rbf, score=0.929, total=   0.1s\n",
            "[CV] C=1000, gamma=0.0001, kernel=rbf ................................\n",
            "[CV] .... C=1000, gamma=0.0001, kernel=rbf, score=0.939, total=   0.1s\n",
            "[CV] C=1000, gamma=0.0001, kernel=rbf ................................\n",
            "[CV] .... C=1000, gamma=0.0001, kernel=rbf, score=0.909, total=   0.1s\n",
            "[CV] C=1000, gamma=0.0001, kernel=rbf ................................\n",
            "[CV] .... C=1000, gamma=0.0001, kernel=rbf, score=0.926, total=   0.1s\n"
          ]
        },
        {
          "output_type": "stream",
          "name": "stderr",
          "text": [
            "[Parallel(n_jobs=1)]: Done 125 out of 125 | elapsed:   15.7s finished\n"
          ]
        },
        {
          "output_type": "execute_result",
          "data": {
            "text/plain": [
              "GridSearchCV(cv=None, error_score=nan,\n",
              "             estimator=SVC(C=1.0, break_ties=False, cache_size=200,\n",
              "                           class_weight=None, coef0=0.0,\n",
              "                           decision_function_shape='ovr', degree=3,\n",
              "                           gamma='scale', kernel='rbf', max_iter=-1,\n",
              "                           probability=False, random_state=None, shrinking=True,\n",
              "                           tol=0.001, verbose=False),\n",
              "             iid='deprecated', n_jobs=None,\n",
              "             param_grid={'C': [0.1, 1, 10, 100, 1000],\n",
              "                         'gamma': [1, 0.1, 0.01, 0.001, 0.0001],\n",
              "                         'kernel': ['rbf']},\n",
              "             pre_dispatch='2*n_jobs', refit=True, return_train_score=False,\n",
              "             scoring=None, verbose=3)"
            ]
          },
          "metadata": {},
          "execution_count": 61
        }
      ]
    },
    {
      "cell_type": "code",
      "metadata": {
        "colab": {
          "base_uri": "https://localhost:8080/"
        },
        "id": "AveFx13gHIyH",
        "outputId": "725b2cab-cbb0-4f1e-a947-a2d0d99a0037"
      },
      "source": [
        "grid.best_params_"
      ],
      "execution_count": 62,
      "outputs": [
        {
          "output_type": "execute_result",
          "data": {
            "text/plain": [
              "{'C': 1000, 'gamma': 0.001, 'kernel': 'rbf'}"
            ]
          },
          "metadata": {},
          "execution_count": 62
        }
      ]
    },
    {
      "cell_type": "code",
      "metadata": {
        "colab": {
          "base_uri": "https://localhost:8080/"
        },
        "id": "zZwB2XPeJRs3",
        "outputId": "57febd50-4167-41d8-b63d-1ad2ad36ee29"
      },
      "source": [
        "grid.best_score_"
      ],
      "execution_count": 63,
      "outputs": [
        {
          "output_type": "execute_result",
          "data": {
            "text/plain": [
              "0.9306397306397306"
            ]
          },
          "metadata": {},
          "execution_count": 63
        }
      ]
    },
    {
      "cell_type": "code",
      "metadata": {
        "colab": {
          "base_uri": "https://localhost:8080/"
        },
        "id": "vLKR80GXJZy9",
        "outputId": "6342672e-154c-4900-8842-1e850410c815"
      },
      "source": [
        "grid.best_estimator_.score(X_test,y_test)"
      ],
      "execution_count": 64,
      "outputs": [
        {
          "output_type": "execute_result",
          "data": {
            "text/plain": [
              "0.9050505050505051"
            ]
          },
          "metadata": {},
          "execution_count": 64
        }
      ]
    },
    {
      "cell_type": "code",
      "metadata": {
        "colab": {
          "base_uri": "https://localhost:8080/"
        },
        "id": "R-Lddod1JnNl",
        "outputId": "541c7920-161d-4ef0-8c16-826e72f8bc35"
      },
      "source": [
        "grid_predictions = grid.predict(X_test)\n",
        " \n",
        "# print classification report\n",
        "print(classification_report(y_test, grid_predictions))"
      ],
      "execution_count": 65,
      "outputs": [
        {
          "output_type": "stream",
          "name": "stdout",
          "text": [
            "              precision    recall  f1-score   support\n",
            "\n",
            "           0       0.95      0.93      0.94       126\n",
            "           1       0.86      0.90      0.88       116\n",
            "           2       0.85      0.89      0.87       119\n",
            "           3       0.96      0.90      0.93       134\n",
            "\n",
            "    accuracy                           0.91       495\n",
            "   macro avg       0.90      0.90      0.90       495\n",
            "weighted avg       0.91      0.91      0.91       495\n",
            "\n"
          ]
        }
      ]
    },
    {
      "cell_type": "code",
      "metadata": {
        "id": "sl-VxmOthiLQ"
      },
      "source": [
        ""
      ],
      "execution_count": 65,
      "outputs": []
    }
  ]
}